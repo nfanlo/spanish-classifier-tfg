{
 "cells": [
  {
   "cell_type": "code",
   "execution_count": null,
   "metadata": {},
   "outputs": [],
   "source": [
    "import pandas as pd\n",
    "import numpy as np"
   ]
  },
  {
   "cell_type": "code",
   "execution_count": 1,
   "metadata": {
    "scrolled": true
   },
   "outputs": [
    {
     "name": "stdout",
     "output_type": "stream",
     "text": [
      "Sentiment(polarity=-0.16666666666666666, subjectivity=0.43333333333333335)\n",
      "[('This', 'DT'), ('table', 'NN'), ('is', 'VBZ'), ('black', 'JJ')]\n",
      "['__add__', '__class__', '__contains__', '__delattr__', '__dict__', '__dir__', '__doc__', '__eq__', '__format__', '__ge__', '__getattribute__', '__getitem__', '__gt__', '__hash__', '__init__', '__init_subclass__', '__iter__', '__le__', '__len__', '__lt__', '__module__', '__ne__', '__new__', '__reduce__', '__reduce_ex__', '__repr__', '__setattr__', '__sizeof__', '__str__', '__subclasshook__', '__weakref__', '_cmpkey', '_compare', '_create_sentence_objects', '_strkey', 'analyzer', 'classifier', 'classify', 'correct', 'detect_language', 'ends_with', 'endswith', 'find', 'format', 'index', 'join', 'json', 'lower', 'ngrams', 'noun_phrases', 'np_counts', 'np_extractor', 'parse', 'parser', 'polarity', 'pos_tagger', 'pos_tags', 'raw', 'raw_sentences', 'replace', 'rfind', 'rindex', 'sentences', 'sentiment', 'sentiment_assessments', 'serialized', 'split', 'starts_with', 'startswith', 'string', 'strip', 'stripped', 'subjectivity', 'tags', 'title', 'to_json', 'tokenize', 'tokenizer', 'tokens', 'translate', 'translator', 'upper', 'word_counts', 'words']\n"
     ]
    }
   ],
   "source": [
    "from textblob import TextBlob\n",
    "analysis = TextBlob(\"This table is black\")\n",
    "print(analysis.sentiment)\n",
    "print(analysis.tags)\n",
    "print(dir(analysis))"
   ]
  },
  {
   "cell_type": "code",
   "execution_count": 13,
   "metadata": {},
   "outputs": [
    {
     "name": "stdout",
     "output_type": "stream",
     "text": [
      "El elemento no esta presente\n",
      "El elemento no esta presente\n",
      "El elemento no esta presente\n",
      "El elemento no esta presente\n",
      "El elemento no esta presente\n",
      "El elemento no esta presente\n",
      "El elemento no esta presente\n",
      "El elemento no esta presente\n",
      "El elemento no esta presente\n",
      "El elemento no esta presente\n",
      "El elemento no esta presente\n",
      "El elemento no esta presente\n",
      "El elemento no esta presente\n",
      "El elemento no esta presente\n",
      "El elemento no esta presente\n",
      "El elemento no esta presente\n",
      "El elemento no esta presente\n",
      "El elemento no esta presente\n",
      "El elemento no esta presente\n",
      "El elemento no esta presente\n",
      "El elemento no esta presente\n",
      "El elemento no esta presente\n",
      "El elemento no esta presente\n",
      "El elemento no esta presente\n",
      "El elemento no esta presente\n",
      "El elemento no esta presente\n",
      "el elemento no esta presente\n",
      "el elemento no esta presente\n",
      "el elemento no esta presente\n",
      "el elemento no esta presente\n",
      "el elemento no esta presente\n",
      "el elemento no esta presente\n",
      "el elemento no esta presente\n",
      "el elemento no esta presente\n",
      "el elemento no esta presente\n",
      "el elemento no esta presente\n",
      "el elemento no esta presente\n",
      "el elemento no esta presente\n",
      "el elemento no esta presente\n",
      "el elemento no esta presente\n",
      "el elemento no esta presente\n",
      "el elemento no esta presente\n",
      "el elemento no esta presente\n",
      "el elemento no esta presente\n",
      "el elemento no esta presente\n",
      "el elemento no esta presente\n"
     ]
    },
    {
     "ename": "ZeroDivisionError",
     "evalue": "division by zero",
     "output_type": "error",
     "traceback": [
      "\u001b[0;31m---------------------------------------------------------------------------\u001b[0m",
      "\u001b[0;31mZeroDivisionError\u001b[0m                         Traceback (most recent call last)",
      "\u001b[0;32m<ipython-input-13-8a682a996bb4>\u001b[0m in \u001b[0;36m<module>\u001b[0;34m\u001b[0m\n\u001b[1;32m     28\u001b[0m         \u001b[0;32mexcept\u001b[0m\u001b[0;34m:\u001b[0m\u001b[0;34m\u001b[0m\u001b[0;34m\u001b[0m\u001b[0m\n\u001b[1;32m     29\u001b[0m             \u001b[0mprint\u001b[0m\u001b[0;34m(\u001b[0m\u001b[0;34m'el elemento no esta presente'\u001b[0m\u001b[0;34m)\u001b[0m\u001b[0;34m\u001b[0m\u001b[0;34m\u001b[0m\u001b[0m\n\u001b[0;32m---> 30\u001b[0;31m \u001b[0mprint\u001b[0m\u001b[0;34m(\u001b[0m\u001b[0;34m\"Precisión positiva = {}% via {} ejemplos\"\u001b[0m\u001b[0;34m.\u001b[0m\u001b[0mformat\u001b[0m\u001b[0;34m(\u001b[0m\u001b[0mpos_correct\u001b[0m\u001b[0;34m/\u001b[0m\u001b[0mpos_count\u001b[0m\u001b[0;34m*\u001b[0m\u001b[0;36m1000.0\u001b[0m\u001b[0;34m,\u001b[0m \u001b[0mpos_count\u001b[0m\u001b[0;34m)\u001b[0m\u001b[0;34m)\u001b[0m\u001b[0;34m\u001b[0m\u001b[0;34m\u001b[0m\u001b[0m\n\u001b[0m\u001b[1;32m     31\u001b[0m \u001b[0mprint\u001b[0m\u001b[0;34m(\u001b[0m\u001b[0;34m\"Precisión negativa = {}% via {} ejemplos\"\u001b[0m\u001b[0;34m.\u001b[0m\u001b[0mformat\u001b[0m\u001b[0;34m(\u001b[0m\u001b[0mneg_correct\u001b[0m\u001b[0;34m/\u001b[0m\u001b[0mpos_count\u001b[0m\u001b[0;34m*\u001b[0m\u001b[0;36m1000.0\u001b[0m\u001b[0;34m,\u001b[0m \u001b[0mneg_count\u001b[0m\u001b[0;34m)\u001b[0m\u001b[0;34m)\u001b[0m\u001b[0;34m\u001b[0m\u001b[0;34m\u001b[0m\u001b[0m\n",
      "\u001b[0;31mZeroDivisionError\u001b[0m: division by zero"
     ]
    }
   ],
   "source": [
    "from textblob import TextBlob\n",
    "pos_count = 0\n",
    "pos_correct = 0\n",
    "\n",
    "with open(\"/Users/nfanlo/Desktop/Python/DataAnalysis/Datasets TFG/Textblob y VADER/positive.txt\", \"r\") as f:\n",
    "    for line in f.read().split('\\n'):\n",
    "        analysis = TextBlob(line)\n",
    "        #print(line)\n",
    "        try:\n",
    "            eng=analysis.translate(to='en')\n",
    "            if eng.sentiment.polarity >0:\n",
    "                pos_correct +=1\n",
    "            pos_count +=1\n",
    "        except:\n",
    "            print(\"El elemento no esta presente\")\n",
    "neg_count = 0\n",
    "neg_correct = 0\n",
    "\n",
    "with open(\"/Users/nfanlo/Desktop/Python/DataAnalysis/Datasets TFG/Textblob y VADER/negative.txt\", \"r\") as f:\n",
    "    for line in f.read().split('\\n'):\n",
    "        analysis = TextBlob(line)\n",
    "        #print(line)\n",
    "        try:\n",
    "            eng=analysis.translate(to='en')\n",
    "            if eng.sentiment.polarity <= 0:\n",
    "                neg_correct +=1\n",
    "            neg_count +=1\n",
    "        except:\n",
    "            print('el elemento no esta presente')\n",
    "print(\"Precisión positiva = {}% via {} ejemplos\".format(pos_correct/pos_count*1000.0, pos_count))\n",
    "print(\"Precisión negativa = {}% via {} ejemplos\".format(neg_correct/pos_count*1000.0, neg_count))"
   ]
  },
  {
   "cell_type": "code",
   "execution_count": 2,
   "metadata": {},
   "outputs": [],
   "source": [
    "from vaderSentiment.vaderSentiment import SentimentIntensityAnalyzer"
   ]
  },
  {
   "cell_type": "code",
   "execution_count": 3,
   "metadata": {},
   "outputs": [
    {
     "name": "stdout",
     "output_type": "stream",
     "text": [
      "{'neg': 0.0, 'neu': 1.0, 'pos': 0.0, 'compound': 0.0}\n"
     ]
    }
   ],
   "source": [
    "analyzer = SentimentIntensityAnalyzer()\n",
    "vs = analyzer.polarity_scores(\"This table is black\")\n",
    "print(vs)"
   ]
  },
  {
   "cell_type": "code",
   "execution_count": 15,
   "metadata": {},
   "outputs": [
    {
     "name": "stdout",
     "output_type": "stream",
     "text": [
      "Precisión positiva = 846.1538461538462% via 26 ejemplos\n",
      "Precisión negativa = 615.3846153846155% via 20 ejemplos\n"
     ]
    }
   ],
   "source": [
    "analyzer = SentimentIntensityAnalyzer()\n",
    "pos_count = 0\n",
    "pos_correct = 0\n",
    "with open (\"/Users/nfanlo/Desktop/Python/DataAnalysis/Datasets TFG/Textblob y VADER/positive.txt\", \"r\") as f:\n",
    "    for line in f.read().split('\\n'):\n",
    "        vs = analyzer.polarity_scores(line)\n",
    "        if vs['compound']>0:\n",
    "            pos_correct += 1\n",
    "        pos_count += 1\n",
    "\n",
    "neg_count = 0\n",
    "neg_correct = 0\n",
    "\n",
    "with open(\"/Users/nfanlo/Desktop/Python/DataAnalysis/Datasets TFG/Textblob y VADER/negative.txt\", \"r\") as f:\n",
    "    for line in f.read().split('\\n'):\n",
    "        vs = analyzer.polarity_scores(line)\n",
    "        if vs ['compound'] <= 0:\n",
    "            neg_correct +=1\n",
    "        neg_count +=1\n",
    "print(\"Precisión positiva = {}% via {} ejemplos\".format(pos_correct/pos_count*1000.0, pos_count))\n",
    "print(\"Precisión negativa = {}% via {} ejemplos\".format(neg_correct/pos_count*1000.0, neg_count))\n"
   ]
  },
  {
   "cell_type": "code",
   "execution_count": null,
   "metadata": {},
   "outputs": [],
   "source": []
  }
 ],
 "metadata": {
  "kernelspec": {
   "display_name": "Python 3 (ipykernel)",
   "language": "python",
   "name": "python3"
  },
  "language_info": {
   "codemirror_mode": {
    "name": "ipython",
    "version": 3
   },
   "file_extension": ".py",
   "mimetype": "text/x-python",
   "name": "python",
   "nbconvert_exporter": "python",
   "pygments_lexer": "ipython3",
   "version": "3.7.4"
  }
 },
 "nbformat": 4,
 "nbformat_minor": 2
}
