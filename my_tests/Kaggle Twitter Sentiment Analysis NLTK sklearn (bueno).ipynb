{
 "cells": [
  {
   "cell_type": "code",
   "execution_count": 1,
   "metadata": {},
   "outputs": [
    {
     "name": "stderr",
     "output_type": "stream",
     "text": [
      "2022-12-02 00:45:38.677027: I tensorflow/core/platform/cpu_feature_guard.cc:193] This TensorFlow binary is optimized with oneAPI Deep Neural Network Library (oneDNN) to use the following CPU instructions in performance-critical operations:  AVX2 FMA\n",
      "To enable them in other operations, rebuild TensorFlow with the appropriate compiler flags.\n"
     ]
    }
   ],
   "source": [
    "#https://www.kaggle.com/code/paoloripamonti/twitter-sentiment-analysis\n",
    "#1.6 million tweets\n",
    "#Dataframe\n",
    "import pandas as pd\n",
    "\n",
    "#Matplot\n",
    "import matplotlib.pyplot as plt\n",
    "%matplotlib inline\n",
    "\n",
    "#Scikit-learn\n",
    "from sklearn.model_selection import train_test_split\n",
    "from sklearn.preprocessing import LabelEncoder\n",
    "from sklearn.metrics import confusion_matrix, classification_report, accuracy_score\n",
    "from sklearn.manifold import TSNE\n",
    "from sklearn.feature_extraction.text import TfidfVectorizer\n",
    "\n",
    "#Keras\n",
    "from keras.preprocessing.text import Tokenizer\n",
    "from tensorflow.keras.preprocessing.sequence import pad_sequences\n",
    "from keras.models import Sequential\n",
    "from keras.layers import Activation, Dense, Dropout, Embedding, Flatten, Conv1D, MaxPooling1D, LSTM\n",
    "from keras import utils\n",
    "from keras.callbacks import ReduceLROnPlateau, EarlyStopping\n",
    "\n",
    "#nltk\n",
    "import nltk\n",
    "from nltk.corpus import stopwords\n",
    "from nltk.stem import SnowballStemmer\n",
    "\n",
    "#Word2vec\n",
    "import gensim\n",
    "\n",
    "#Utility\n",
    "import re\n",
    "import numpy as np\n",
    "import os\n",
    "from collections import Counter\n",
    "import logging\n",
    "import time\n",
    "import pickle\n",
    "import itertools\n",
    "\n",
    "#Set log\n",
    "logging.basicConfig(format='%(asctime)s : %(levelname)s : %(message)s', level=logging.INFO)"
   ]
  },
  {
   "cell_type": "markdown",
   "metadata": {},
   "source": []
  },
  {
   "cell_type": "code",
   "execution_count": 2,
   "metadata": {},
   "outputs": [
    {
     "name": "stderr",
     "output_type": "stream",
     "text": [
      "[nltk_data] Downloading package stopwords to\n",
      "[nltk_data]     /Users/nfanlo/nltk_data...\n",
      "[nltk_data]   Package stopwords is already up-to-date!\n"
     ]
    },
    {
     "data": {
      "text/plain": [
       "True"
      ]
     },
     "execution_count": 2,
     "metadata": {},
     "output_type": "execute_result"
    }
   ],
   "source": [
    "nltk.download('stopwords')"
   ]
  },
  {
   "cell_type": "code",
   "execution_count": 3,
   "metadata": {},
   "outputs": [],
   "source": [
    "#DATASET\n",
    "DATASET_COLUMNS = [\"target\", \"ids\", \"date\", \"flag\", \"user\", \"text\"]\n",
    "DATASET_ENCODING = \"ISO-8859-1\"\n",
    "TRAIN_SIZE = 0.8\n",
    "\n",
    "#TEXT CLEARING\n",
    "TEXT_CLEANING_RE = \"@\\S+|https?:\\S+|http?:\\S|[^A-Za-z0-9]+\"\n",
    "\n",
    "#WORD2VEC\n",
    "W2V_SIZE = 300\n",
    "W2V_WINDOW = 7\n",
    "W2V_EPOCH = 32\n",
    "W2V_MIN_COUNT = 10\n",
    "\n",
    "#KERAS\n",
    "SEQUENCE_LENGTH = 300\n",
    "EPOCHS = 1\n",
    "BATCH_SIZE = 1024\n",
    "\n",
    "#SENTIMENT\n",
    "POSITIVE = \"POSITIVE\"\n",
    "NEGATIVE = \"NEGATIVE\"\n",
    "NEUTRAL = \"NEUTRAL\"\n",
    "SENTIMENT_THRESHOLDS = (0.4, 0.7)\n",
    "\n",
    "#EXPORT\n",
    "KERAS_MODEL = \"model.h5\"\n",
    "WORD2VEC_MODEL = \"model.w2v\"\n",
    "TOKENIZER_MODEL = \"tokenizer.pkl\"\n",
    "ENCODER_MODEL = \"encoder.pkl\""
   ]
  },
  {
   "cell_type": "code",
   "execution_count": 4,
   "metadata": {},
   "outputs": [],
   "source": [
    "#Dataset details\n",
    "#target: the polarity of the tweet (0 = negative, 2 = neutral, 4 = positive)\n",
    "#ids: The id of the tweet ( 2087)\n",
    "#date: the date of the tweet (Sat May 16 23:58:44 UTC 2009)\n",
    "#flag: The query (lyx). If there is no query, then this value is NO_QUERY.\n",
    "#user: the user that tweeted (robotickilldozr)\n",
    "#text: the text of the tweet (Lyx is cool)\n",
    "\n",
    "#Open dataset\n",
    "#import os\n",
    "#dataset_filename = os.listdir(\"/Users/nfanlo/Desktop/Python/DataAnalysis/Datasets TFG/Kaggle_Twitter sentiment Analysis (NLTK) /training.1600000.processed.noemoticon.csv\")[0]\n",
    "#dataset_path = os.path.join(\"/Users/nfanlo/Desktop/Python/DataAnalysis/Datasets TFG/Kaggle_Twitter sentiment Analysis (NLTK) /training.1600000.processed.noemoticon.csv\",dataset_filename)\n",
    "#print(\"Open file:\", dataset_path)\n",
    "df = pd.read_csv(\"/Users/nfanlo/Desktop/Python/DataAnalysis/Datasets TFG/Kaggle_Twitter sentiment Analysis (NLTK) /training.1600000.processed.noemoticon.csv\", encoding =DATASET_ENCODING, names=DATASET_COLUMNS)\n"
   ]
  },
  {
   "cell_type": "code",
   "execution_count": 5,
   "metadata": {},
   "outputs": [
    {
     "name": "stdout",
     "output_type": "stream",
     "text": [
      "Dataset size: 1600000\n"
     ]
    }
   ],
   "source": [
    "print(\"Dataset size:\", len(df))"
   ]
  },
  {
   "cell_type": "code",
   "execution_count": 6,
   "metadata": {},
   "outputs": [
    {
     "data": {
      "text/html": [
       "<div>\n",
       "<style scoped>\n",
       "    .dataframe tbody tr th:only-of-type {\n",
       "        vertical-align: middle;\n",
       "    }\n",
       "\n",
       "    .dataframe tbody tr th {\n",
       "        vertical-align: top;\n",
       "    }\n",
       "\n",
       "    .dataframe thead th {\n",
       "        text-align: right;\n",
       "    }\n",
       "</style>\n",
       "<table border=\"1\" class=\"dataframe\">\n",
       "  <thead>\n",
       "    <tr style=\"text-align: right;\">\n",
       "      <th></th>\n",
       "      <th>target</th>\n",
       "      <th>ids</th>\n",
       "      <th>date</th>\n",
       "      <th>flag</th>\n",
       "      <th>user</th>\n",
       "      <th>text</th>\n",
       "    </tr>\n",
       "  </thead>\n",
       "  <tbody>\n",
       "    <tr>\n",
       "      <th>1599995</th>\n",
       "      <td>4</td>\n",
       "      <td>2193601966</td>\n",
       "      <td>Tue Jun 16 08:40:49 PDT 2009</td>\n",
       "      <td>NO_QUERY</td>\n",
       "      <td>AmandaMarie1028</td>\n",
       "      <td>Just woke up. Having no school is the best fee...</td>\n",
       "    </tr>\n",
       "    <tr>\n",
       "      <th>1599996</th>\n",
       "      <td>4</td>\n",
       "      <td>2193601969</td>\n",
       "      <td>Tue Jun 16 08:40:49 PDT 2009</td>\n",
       "      <td>NO_QUERY</td>\n",
       "      <td>TheWDBoards</td>\n",
       "      <td>TheWDB.com - Very cool to hear old Walt interv...</td>\n",
       "    </tr>\n",
       "    <tr>\n",
       "      <th>1599997</th>\n",
       "      <td>4</td>\n",
       "      <td>2193601991</td>\n",
       "      <td>Tue Jun 16 08:40:49 PDT 2009</td>\n",
       "      <td>NO_QUERY</td>\n",
       "      <td>bpbabe</td>\n",
       "      <td>Are you ready for your MoJo Makeover? Ask me f...</td>\n",
       "    </tr>\n",
       "    <tr>\n",
       "      <th>1599998</th>\n",
       "      <td>4</td>\n",
       "      <td>2193602064</td>\n",
       "      <td>Tue Jun 16 08:40:49 PDT 2009</td>\n",
       "      <td>NO_QUERY</td>\n",
       "      <td>tinydiamondz</td>\n",
       "      <td>Happy 38th Birthday to my boo of alll time!!! ...</td>\n",
       "    </tr>\n",
       "    <tr>\n",
       "      <th>1599999</th>\n",
       "      <td>4</td>\n",
       "      <td>2193602129</td>\n",
       "      <td>Tue Jun 16 08:40:50 PDT 2009</td>\n",
       "      <td>NO_QUERY</td>\n",
       "      <td>RyanTrevMorris</td>\n",
       "      <td>happy #charitytuesday @theNSPCC @SparksCharity...</td>\n",
       "    </tr>\n",
       "  </tbody>\n",
       "</table>\n",
       "</div>"
      ],
      "text/plain": [
       "         target         ids                          date      flag  \\\n",
       "1599995       4  2193601966  Tue Jun 16 08:40:49 PDT 2009  NO_QUERY   \n",
       "1599996       4  2193601969  Tue Jun 16 08:40:49 PDT 2009  NO_QUERY   \n",
       "1599997       4  2193601991  Tue Jun 16 08:40:49 PDT 2009  NO_QUERY   \n",
       "1599998       4  2193602064  Tue Jun 16 08:40:49 PDT 2009  NO_QUERY   \n",
       "1599999       4  2193602129  Tue Jun 16 08:40:50 PDT 2009  NO_QUERY   \n",
       "\n",
       "                    user                                               text  \n",
       "1599995  AmandaMarie1028  Just woke up. Having no school is the best fee...  \n",
       "1599996      TheWDBoards  TheWDB.com - Very cool to hear old Walt interv...  \n",
       "1599997           bpbabe  Are you ready for your MoJo Makeover? Ask me f...  \n",
       "1599998     tinydiamondz  Happy 38th Birthday to my boo of alll time!!! ...  \n",
       "1599999   RyanTrevMorris  happy #charitytuesday @theNSPCC @SparksCharity...  "
      ]
     },
     "execution_count": 6,
     "metadata": {},
     "output_type": "execute_result"
    }
   ],
   "source": [
    "df.tail()"
   ]
  },
  {
   "cell_type": "code",
   "execution_count": 7,
   "metadata": {},
   "outputs": [],
   "source": [
    "#Map target label to String\n",
    "#0 -> NEGATIVE\n",
    "#2 -> NEUTRAL\n",
    "#4 -> POSITIVE\n",
    "\n",
    "decode_map = {0: \"NEGATIVE\", 2: \"NEUTRAL\", 4: \"POSITIVE\"}\n",
    "def decode_sentiment(label):\n",
    "    return decode_map[int(label)]"
   ]
  },
  {
   "cell_type": "code",
   "execution_count": 8,
   "metadata": {},
   "outputs": [
    {
     "name": "stdout",
     "output_type": "stream",
     "text": [
      "CPU times: user 374 ms, sys: 6.16 ms, total: 380 ms\n",
      "Wall time: 393 ms\n"
     ]
    }
   ],
   "source": [
    "%%time\n",
    "df.target = df.target.apply(lambda x: decode_sentiment(x))"
   ]
  },
  {
   "cell_type": "code",
   "execution_count": 9,
   "metadata": {},
   "outputs": [
    {
     "data": {
      "text/html": [
       "<div>\n",
       "<style scoped>\n",
       "    .dataframe tbody tr th:only-of-type {\n",
       "        vertical-align: middle;\n",
       "    }\n",
       "\n",
       "    .dataframe tbody tr th {\n",
       "        vertical-align: top;\n",
       "    }\n",
       "\n",
       "    .dataframe thead th {\n",
       "        text-align: right;\n",
       "    }\n",
       "</style>\n",
       "<table border=\"1\" class=\"dataframe\">\n",
       "  <thead>\n",
       "    <tr style=\"text-align: right;\">\n",
       "      <th></th>\n",
       "      <th>target</th>\n",
       "      <th>ids</th>\n",
       "      <th>date</th>\n",
       "      <th>flag</th>\n",
       "      <th>user</th>\n",
       "      <th>text</th>\n",
       "    </tr>\n",
       "  </thead>\n",
       "  <tbody>\n",
       "    <tr>\n",
       "      <th>1599995</th>\n",
       "      <td>POSITIVE</td>\n",
       "      <td>2193601966</td>\n",
       "      <td>Tue Jun 16 08:40:49 PDT 2009</td>\n",
       "      <td>NO_QUERY</td>\n",
       "      <td>AmandaMarie1028</td>\n",
       "      <td>Just woke up. Having no school is the best fee...</td>\n",
       "    </tr>\n",
       "    <tr>\n",
       "      <th>1599996</th>\n",
       "      <td>POSITIVE</td>\n",
       "      <td>2193601969</td>\n",
       "      <td>Tue Jun 16 08:40:49 PDT 2009</td>\n",
       "      <td>NO_QUERY</td>\n",
       "      <td>TheWDBoards</td>\n",
       "      <td>TheWDB.com - Very cool to hear old Walt interv...</td>\n",
       "    </tr>\n",
       "    <tr>\n",
       "      <th>1599997</th>\n",
       "      <td>POSITIVE</td>\n",
       "      <td>2193601991</td>\n",
       "      <td>Tue Jun 16 08:40:49 PDT 2009</td>\n",
       "      <td>NO_QUERY</td>\n",
       "      <td>bpbabe</td>\n",
       "      <td>Are you ready for your MoJo Makeover? Ask me f...</td>\n",
       "    </tr>\n",
       "    <tr>\n",
       "      <th>1599998</th>\n",
       "      <td>POSITIVE</td>\n",
       "      <td>2193602064</td>\n",
       "      <td>Tue Jun 16 08:40:49 PDT 2009</td>\n",
       "      <td>NO_QUERY</td>\n",
       "      <td>tinydiamondz</td>\n",
       "      <td>Happy 38th Birthday to my boo of alll time!!! ...</td>\n",
       "    </tr>\n",
       "    <tr>\n",
       "      <th>1599999</th>\n",
       "      <td>POSITIVE</td>\n",
       "      <td>2193602129</td>\n",
       "      <td>Tue Jun 16 08:40:50 PDT 2009</td>\n",
       "      <td>NO_QUERY</td>\n",
       "      <td>RyanTrevMorris</td>\n",
       "      <td>happy #charitytuesday @theNSPCC @SparksCharity...</td>\n",
       "    </tr>\n",
       "  </tbody>\n",
       "</table>\n",
       "</div>"
      ],
      "text/plain": [
       "           target         ids                          date      flag  \\\n",
       "1599995  POSITIVE  2193601966  Tue Jun 16 08:40:49 PDT 2009  NO_QUERY   \n",
       "1599996  POSITIVE  2193601969  Tue Jun 16 08:40:49 PDT 2009  NO_QUERY   \n",
       "1599997  POSITIVE  2193601991  Tue Jun 16 08:40:49 PDT 2009  NO_QUERY   \n",
       "1599998  POSITIVE  2193602064  Tue Jun 16 08:40:49 PDT 2009  NO_QUERY   \n",
       "1599999  POSITIVE  2193602129  Tue Jun 16 08:40:50 PDT 2009  NO_QUERY   \n",
       "\n",
       "                    user                                               text  \n",
       "1599995  AmandaMarie1028  Just woke up. Having no school is the best fee...  \n",
       "1599996      TheWDBoards  TheWDB.com - Very cool to hear old Walt interv...  \n",
       "1599997           bpbabe  Are you ready for your MoJo Makeover? Ask me f...  \n",
       "1599998     tinydiamondz  Happy 38th Birthday to my boo of alll time!!! ...  \n",
       "1599999   RyanTrevMorris  happy #charitytuesday @theNSPCC @SparksCharity...  "
      ]
     },
     "execution_count": 9,
     "metadata": {},
     "output_type": "execute_result"
    }
   ],
   "source": [
    "df.tail()"
   ]
  },
  {
   "cell_type": "code",
   "execution_count": 10,
   "metadata": {},
   "outputs": [
    {
     "data": {
      "text/plain": [
       "Text(0.5, 1.0, 'dataset labels distribuition')"
      ]
     },
     "execution_count": 10,
     "metadata": {},
     "output_type": "execute_result"
    },
    {
     "data": {
      "image/png": "[encoded data removed]",
      "text/plain": [
       "<Figure size 1600x800 with 1 Axes>"
      ]
     },
     "metadata": {},
     "output_type": "display_data"
    }
   ],
   "source": [
    "target_cnt = Counter(df.target)\n",
    "plt.figure(figsize=(16,8))\n",
    "plt.bar(target_cnt.keys(), target_cnt.values())\n",
    "plt.title(\"dataset labels distribuition\")"
   ]
  },
  {
   "cell_type": "code",
   "execution_count": 11,
   "metadata": {},
   "outputs": [],
   "source": [
    "#Pre-Process dataset\n",
    "stop_words= stopwords.words(\"english\")\n",
    "stemmer = SnowballStemmer(\"english\")"
   ]
  },
  {
   "cell_type": "code",
   "execution_count": 12,
   "metadata": {},
   "outputs": [],
   "source": [
    "def preprocess(text, stem=False):\n",
    "    #Remove link, usera and special characters\n",
    "    text = re.sub(TEXT_CLEANING_RE, '', str(text).lower()).strip()\n",
    "    tokens = []\n",
    "    for token in text.split():\n",
    "        if token not in stop_words:\n",
    "            if stem:\n",
    "                tokens.append(stemmer.stem(token))\n",
    "            else:\n",
    "                tokens.append(token)\n",
    "    return \"\".join(tokens)"
   ]
  },
  {
   "cell_type": "code",
   "execution_count": null,
   "metadata": {},
   "outputs": [],
   "source": []
  },
  {
   "cell_type": "code",
   "execution_count": 14,
   "metadata": {},
   "outputs": [
    {
     "name": "stdout",
     "output_type": "stream",
     "text": [
      "CPU times: user 12.2 s, sys: 131 ms, total: 12.3 s\n",
      "Wall time: 12.4 s\n"
     ]
    }
   ],
   "source": [
    "%%time\n",
    "df.text = df.text.apply(lambda x: preprocess(x))"
   ]
  },
  {
   "cell_type": "code",
   "execution_count": 20,
   "metadata": {},
   "outputs": [
    {
     "name": "stdout",
     "output_type": "stream",
     "text": [
      "           target         ids                          date      flag  \\\n",
      "1599995  POSITIVE  2193601966  Tue Jun 16 08:40:49 PDT 2009  NO_QUERY   \n",
      "1599996  POSITIVE  2193601969  Tue Jun 16 08:40:49 PDT 2009  NO_QUERY   \n",
      "1599997  POSITIVE  2193601991  Tue Jun 16 08:40:49 PDT 2009  NO_QUERY   \n",
      "1599998  POSITIVE  2193602064  Tue Jun 16 08:40:49 PDT 2009  NO_QUERY   \n",
      "1599999  POSITIVE  2193602129  Tue Jun 16 08:40:50 PDT 2009  NO_QUERY   \n",
      "\n",
      "                    user                                               text  \n",
      "1599995  AmandaMarie1028       justwokeuphavingnoschoolisthebestfeelingever  \n",
      "1599996      TheWDBoards           thewdbcomverycooltohearoldwaltinterviews  \n",
      "1599997           bpbabe      areyoureadyforyourmojomakeoveraskmefordetails  \n",
      "1599998     tinydiamondz  happy38thbirthdaytomybooofallltimetupacamarush...  \n",
      "1599999   RyanTrevMorris  happycharitytuesdaythenspccsparkscharityspeaki...  \n"
     ]
    }
   ],
   "source": [
    "print(df.tail())"
   ]
  },
  {
   "cell_type": "code",
   "execution_count": 21,
   "metadata": {},
   "outputs": [
    {
     "name": "stdout",
     "output_type": "stream",
     "text": [
      "TRAIN size: 1280000\n",
      "TEST size: 320000\n"
     ]
    }
   ],
   "source": [
    "#Split train and test\n",
    "df_train, df_test = train_test_split(df, test_size=1-TRAIN_SIZE, random_state=42)\n",
    "print(\"TRAIN size:\", len(df_train))\n",
    "print(\"TEST size:\", len(df_test))"
   ]
  },
  {
   "cell_type": "code",
   "execution_count": 22,
   "metadata": {},
   "outputs": [
    {
     "name": "stdout",
     "output_type": "stream",
     "text": [
      "CPU times: user 1.82 s, sys: 85.3 ms, total: 1.9 s\n",
      "Wall time: 1.91 s\n"
     ]
    }
   ],
   "source": [
    "%%time\n",
    "documents = [_text.split() for _text in df_train.text] "
   ]
  },
  {
   "cell_type": "code",
   "execution_count": 26,
   "metadata": {},
   "outputs": [
    {
     "name": "stdout",
     "output_type": "stream",
     "text": [
      "[['withyaquotidlikeapalmpretouchstonechargerreadynowyesthatsoundsgoodbutismybeerreadynowprelaunch'], ['felttheearthquakethisafternoonitseemstobeabutattheepicenter'], ['rufflesonshirtsarelikesoinmelikey'], ['prettybadnightintoacrappymorningfmlifonlybuttfacedidntsayhecouldgointoworktoday'], ['yeahwhataclearview'], ['onemoretimefollowmyfamffgeorgeann13nakithebeatmanflimackgodchaz81djtellejaejaedynomitewelcometofridayfollowme2'], ['urockthankswillbeaddedtonextrobcrotchtmvideo'], ['yespleasemetyourfianceeatianspartytheotherdaybtwshesverysweetcongratstoyouguys'], ['mygawdtheyvefinishedthewholebowlbeforeievenpostedmyprevioustweetmaking2ndbowl'], ['awesomegamebutveryshortyoullfinishitandbecravingformoregodofwaraction']]\n"
     ]
    }
   ],
   "source": [
    "print(documents[:10])"
   ]
  },
  {
   "cell_type": "code",
   "execution_count": 27,
   "metadata": {},
   "outputs": [
    {
     "name": "stderr",
     "output_type": "stream",
     "text": [
      "2022-12-02 00:51:49,096 : INFO : Word2Vec lifecycle event {'params': 'Word2Vec<vocab=0, vector_size=300, alpha=0.025>', 'datetime': '2022-12-02T00:51:49.096618', 'gensim': '4.2.0', 'python': '3.7.15 (default, Nov 10 2022, 12:46:26) \\n[Clang 14.0.6 ]', 'platform': 'Darwin-21.3.0-x86_64-i386-64bit', 'event': 'created'}\n"
     ]
    }
   ],
   "source": [
    "w2v_model = gensim.models.word2vec.Word2Vec(vector_size=W2V_SIZE, \n",
    "                                            window=W2V_WINDOW, \n",
    "                                            min_count=W2V_MIN_COUNT, \n",
    "                                            workers=8)"
   ]
  },
  {
   "cell_type": "code",
   "execution_count": 28,
   "metadata": {},
   "outputs": [
    {
     "name": "stderr",
     "output_type": "stream",
     "text": [
      "2022-12-02 00:51:51,770 : INFO : collecting all words and their counts\n",
      "2022-12-02 00:51:51,771 : INFO : PROGRESS: at sentence #0, processed 0 words, keeping 0 word types\n",
      "2022-12-02 00:51:51,780 : INFO : PROGRESS: at sentence #10000, processed 9970 words, keeping 9877 word types\n",
      "2022-12-02 00:51:51,789 : INFO : PROGRESS: at sentence #20000, processed 19941 words, keeping 19709 word types\n",
      "2022-12-02 00:51:51,799 : INFO : PROGRESS: at sentence #30000, processed 29915 words, keeping 29503 word types\n",
      "2022-12-02 00:51:51,810 : INFO : PROGRESS: at sentence #40000, processed 39892 words, keeping 39280 word types\n",
      "2022-12-02 00:51:51,824 : INFO : PROGRESS: at sentence #50000, processed 49870 words, keeping 49041 word types\n",
      "2022-12-02 00:51:51,833 : INFO : PROGRESS: at sentence #60000, processed 59841 words, keeping 58775 word types\n",
      "2022-12-02 00:51:51,844 : INFO : PROGRESS: at sentence #70000, processed 69816 words, keeping 68512 word types\n",
      "2022-12-02 00:51:51,853 : INFO : PROGRESS: at sentence #80000, processed 79779 words, keeping 78259 word types\n",
      "2022-12-02 00:51:51,867 : INFO : PROGRESS: at sentence #90000, processed 89753 words, keeping 87973 word types\n",
      "2022-12-02 00:51:51,878 : INFO : PROGRESS: at sentence #100000, processed 99727 words, keeping 97666 word types\n",
      "2022-12-02 00:51:51,889 : INFO : PROGRESS: at sentence #110000, processed 109696 words, keeping 107391 word types\n",
      "2022-12-02 00:51:51,900 : INFO : PROGRESS: at sentence #120000, processed 119666 words, keeping 117069 word types\n",
      "2022-12-02 00:51:51,912 : INFO : PROGRESS: at sentence #130000, processed 129636 words, keeping 126727 word types\n",
      "2022-12-02 00:51:51,922 : INFO : PROGRESS: at sentence #140000, processed 139619 words, keeping 136409 word types\n",
      "2022-12-02 00:51:51,935 : INFO : PROGRESS: at sentence #150000, processed 149600 words, keeping 146063 word types\n",
      "2022-12-02 00:51:51,947 : INFO : PROGRESS: at sentence #160000, processed 159573 words, keeping 155697 word types\n",
      "2022-12-02 00:51:51,958 : INFO : PROGRESS: at sentence #170000, processed 169553 words, keeping 165372 word types\n",
      "2022-12-02 00:51:51,981 : INFO : PROGRESS: at sentence #180000, processed 179530 words, keeping 175032 word types\n",
      "2022-12-02 00:51:51,992 : INFO : PROGRESS: at sentence #190000, processed 189507 words, keeping 184689 word types\n",
      "2022-12-02 00:51:52,005 : INFO : PROGRESS: at sentence #200000, processed 199473 words, keeping 194340 word types\n",
      "2022-12-02 00:51:52,015 : INFO : PROGRESS: at sentence #210000, processed 209441 words, keeping 203982 word types\n",
      "2022-12-02 00:51:52,027 : INFO : PROGRESS: at sentence #220000, processed 219427 words, keeping 213630 word types\n",
      "2022-12-02 00:51:52,039 : INFO : PROGRESS: at sentence #230000, processed 229403 words, keeping 223257 word types\n",
      "2022-12-02 00:51:52,050 : INFO : PROGRESS: at sentence #240000, processed 239382 words, keeping 232915 word types\n",
      "2022-12-02 00:51:52,063 : INFO : PROGRESS: at sentence #250000, processed 249354 words, keeping 242531 word types\n",
      "2022-12-02 00:51:52,075 : INFO : PROGRESS: at sentence #260000, processed 259336 words, keeping 252192 word types\n",
      "2022-12-02 00:51:52,087 : INFO : PROGRESS: at sentence #270000, processed 269313 words, keeping 261785 word types\n",
      "2022-12-02 00:51:52,098 : INFO : PROGRESS: at sentence #280000, processed 279297 words, keeping 271407 word types\n",
      "2022-12-02 00:51:52,109 : INFO : PROGRESS: at sentence #290000, processed 289268 words, keeping 281036 word types\n",
      "2022-12-02 00:51:52,120 : INFO : PROGRESS: at sentence #300000, processed 299247 words, keeping 290642 word types\n",
      "2022-12-02 00:51:52,131 : INFO : PROGRESS: at sentence #310000, processed 309235 words, keeping 300292 word types\n",
      "2022-12-02 00:51:52,143 : INFO : PROGRESS: at sentence #320000, processed 319209 words, keeping 309887 word types\n",
      "2022-12-02 00:51:52,154 : INFO : PROGRESS: at sentence #330000, processed 329185 words, keeping 319473 word types\n",
      "2022-12-02 00:51:52,166 : INFO : PROGRESS: at sentence #340000, processed 339164 words, keeping 329037 word types\n",
      "2022-12-02 00:51:52,178 : INFO : PROGRESS: at sentence #350000, processed 349141 words, keeping 338612 word types\n",
      "2022-12-02 00:51:52,190 : INFO : PROGRESS: at sentence #360000, processed 359112 words, keeping 348160 word types\n",
      "2022-12-02 00:51:52,220 : INFO : PROGRESS: at sentence #370000, processed 369086 words, keeping 357729 word types\n",
      "2022-12-02 00:51:52,230 : INFO : PROGRESS: at sentence #380000, processed 379062 words, keeping 367280 word types\n",
      "2022-12-02 00:51:52,241 : INFO : PROGRESS: at sentence #390000, processed 389036 words, keeping 376849 word types\n",
      "2022-12-02 00:51:52,251 : INFO : PROGRESS: at sentence #400000, processed 399017 words, keeping 386401 word types\n",
      "2022-12-02 00:51:52,264 : INFO : PROGRESS: at sentence #410000, processed 408980 words, keeping 395958 word types\n",
      "2022-12-02 00:51:52,274 : INFO : PROGRESS: at sentence #420000, processed 418948 words, keeping 405501 word types\n",
      "2022-12-02 00:51:52,285 : INFO : PROGRESS: at sentence #430000, processed 428925 words, keeping 415058 word types\n",
      "2022-12-02 00:51:52,297 : INFO : PROGRESS: at sentence #440000, processed 438899 words, keeping 424641 word types\n",
      "2022-12-02 00:51:52,308 : INFO : PROGRESS: at sentence #450000, processed 448883 words, keeping 434207 word types\n",
      "2022-12-02 00:51:52,319 : INFO : PROGRESS: at sentence #460000, processed 458866 words, keeping 443741 word types\n",
      "2022-12-02 00:51:52,331 : INFO : PROGRESS: at sentence #470000, processed 468843 words, keeping 453304 word types\n",
      "2022-12-02 00:51:52,342 : INFO : PROGRESS: at sentence #480000, processed 478825 words, keeping 462881 word types\n",
      "2022-12-02 00:51:52,354 : INFO : PROGRESS: at sentence #490000, processed 488803 words, keeping 472446 word types\n",
      "2022-12-02 00:51:52,366 : INFO : PROGRESS: at sentence #500000, processed 498777 words, keeping 481970 word types\n",
      "2022-12-02 00:51:52,378 : INFO : PROGRESS: at sentence #510000, processed 508761 words, keeping 491523 word types\n",
      "2022-12-02 00:51:52,390 : INFO : PROGRESS: at sentence #520000, processed 518731 words, keeping 501063 word types\n",
      "2022-12-02 00:51:52,401 : INFO : PROGRESS: at sentence #530000, processed 528703 words, keeping 510596 word types\n",
      "2022-12-02 00:51:52,412 : INFO : PROGRESS: at sentence #540000, processed 538676 words, keeping 520108 word types\n",
      "2022-12-02 00:51:52,432 : INFO : PROGRESS: at sentence #550000, processed 548650 words, keeping 529626 word types\n",
      "2022-12-02 00:51:52,446 : INFO : PROGRESS: at sentence #560000, processed 558623 words, keeping 539156 word types\n",
      "2022-12-02 00:51:52,460 : INFO : PROGRESS: at sentence #570000, processed 568597 words, keeping 548705 word types\n",
      "2022-12-02 00:51:52,473 : INFO : PROGRESS: at sentence #580000, processed 578571 words, keeping 558231 word types\n",
      "2022-12-02 00:51:52,484 : INFO : PROGRESS: at sentence #590000, processed 588541 words, keeping 567748 word types\n",
      "2022-12-02 00:51:52,496 : INFO : PROGRESS: at sentence #600000, processed 598521 words, keeping 577265 word types\n",
      "2022-12-02 00:51:52,508 : INFO : PROGRESS: at sentence #610000, processed 608485 words, keeping 586783 word types\n",
      "2022-12-02 00:51:52,520 : INFO : PROGRESS: at sentence #620000, processed 618466 words, keeping 596315 word types\n",
      "2022-12-02 00:51:52,531 : INFO : PROGRESS: at sentence #630000, processed 628442 words, keeping 605790 word types\n",
      "2022-12-02 00:51:52,543 : INFO : PROGRESS: at sentence #640000, processed 638422 words, keeping 615313 word types\n",
      "2022-12-02 00:51:52,555 : INFO : PROGRESS: at sentence #650000, processed 648398 words, keeping 624843 word types\n",
      "2022-12-02 00:51:52,566 : INFO : PROGRESS: at sentence #660000, processed 658370 words, keeping 634371 word types\n",
      "2022-12-02 00:51:52,578 : INFO : PROGRESS: at sentence #670000, processed 668342 words, keeping 643816 word types\n",
      "2022-12-02 00:51:52,589 : INFO : PROGRESS: at sentence #680000, processed 678312 words, keeping 653344 word types\n",
      "2022-12-02 00:51:52,600 : INFO : PROGRESS: at sentence #690000, processed 688294 words, keeping 662836 word types\n",
      "2022-12-02 00:51:52,612 : INFO : PROGRESS: at sentence #700000, processed 698265 words, keeping 672359 word types\n",
      "2022-12-02 00:51:52,625 : INFO : PROGRESS: at sentence #710000, processed 708243 words, keeping 681872 word types\n"
     ]
    },
    {
     "name": "stderr",
     "output_type": "stream",
     "text": [
      "2022-12-02 00:51:52,636 : INFO : PROGRESS: at sentence #720000, processed 718221 words, keeping 691361 word types\n",
      "2022-12-02 00:51:52,676 : INFO : PROGRESS: at sentence #730000, processed 728198 words, keeping 700843 word types\n",
      "2022-12-02 00:51:52,687 : INFO : PROGRESS: at sentence #740000, processed 738171 words, keeping 710289 word types\n",
      "2022-12-02 00:51:52,697 : INFO : PROGRESS: at sentence #750000, processed 748147 words, keeping 719764 word types\n",
      "2022-12-02 00:51:52,710 : INFO : PROGRESS: at sentence #760000, processed 758118 words, keeping 729287 word types\n",
      "2022-12-02 00:51:52,720 : INFO : PROGRESS: at sentence #770000, processed 768086 words, keeping 738767 word types\n",
      "2022-12-02 00:51:52,731 : INFO : PROGRESS: at sentence #780000, processed 778060 words, keeping 748228 word types\n",
      "2022-12-02 00:51:52,742 : INFO : PROGRESS: at sentence #790000, processed 788031 words, keeping 757706 word types\n",
      "2022-12-02 00:51:52,753 : INFO : PROGRESS: at sentence #800000, processed 798002 words, keeping 767206 word types\n",
      "2022-12-02 00:51:52,764 : INFO : PROGRESS: at sentence #810000, processed 807976 words, keeping 776688 word types\n",
      "2022-12-02 00:51:52,775 : INFO : PROGRESS: at sentence #820000, processed 817952 words, keeping 786156 word types\n",
      "2022-12-02 00:51:52,787 : INFO : PROGRESS: at sentence #830000, processed 827918 words, keeping 795626 word types\n",
      "2022-12-02 00:51:52,798 : INFO : PROGRESS: at sentence #840000, processed 837891 words, keeping 805088 word types\n",
      "2022-12-02 00:51:52,810 : INFO : PROGRESS: at sentence #850000, processed 847864 words, keeping 814569 word types\n",
      "2022-12-02 00:51:52,822 : INFO : PROGRESS: at sentence #860000, processed 857840 words, keeping 824062 word types\n",
      "2022-12-02 00:51:52,833 : INFO : PROGRESS: at sentence #870000, processed 867819 words, keeping 833526 word types\n",
      "2022-12-02 00:51:52,844 : INFO : PROGRESS: at sentence #880000, processed 877789 words, keeping 842979 word types\n",
      "2022-12-02 00:51:52,857 : INFO : PROGRESS: at sentence #890000, processed 887757 words, keeping 852478 word types\n",
      "2022-12-02 00:51:52,867 : INFO : PROGRESS: at sentence #900000, processed 897738 words, keeping 861937 word types\n",
      "2022-12-02 00:51:52,878 : INFO : PROGRESS: at sentence #910000, processed 907716 words, keeping 871411 word types\n",
      "2022-12-02 00:51:52,892 : INFO : PROGRESS: at sentence #920000, processed 917689 words, keeping 880896 word types\n",
      "2022-12-02 00:51:52,905 : INFO : PROGRESS: at sentence #930000, processed 927667 words, keeping 890376 word types\n",
      "2022-12-02 00:51:52,916 : INFO : PROGRESS: at sentence #940000, processed 937642 words, keeping 899805 word types\n",
      "2022-12-02 00:51:52,930 : INFO : PROGRESS: at sentence #950000, processed 947623 words, keeping 909226 word types\n",
      "2022-12-02 00:51:52,941 : INFO : PROGRESS: at sentence #960000, processed 957596 words, keeping 918675 word types\n",
      "2022-12-02 00:51:52,952 : INFO : PROGRESS: at sentence #970000, processed 967574 words, keeping 928104 word types\n",
      "2022-12-02 00:51:52,963 : INFO : PROGRESS: at sentence #980000, processed 977551 words, keeping 937602 word types\n",
      "2022-12-02 00:51:52,975 : INFO : PROGRESS: at sentence #990000, processed 987528 words, keeping 947035 word types\n",
      "2022-12-02 00:51:52,986 : INFO : PROGRESS: at sentence #1000000, processed 997506 words, keeping 956471 word types\n",
      "2022-12-02 00:51:52,996 : INFO : PROGRESS: at sentence #1010000, processed 1007487 words, keeping 965932 word types\n",
      "2022-12-02 00:51:53,007 : INFO : PROGRESS: at sentence #1020000, processed 1017462 words, keeping 975374 word types\n",
      "2022-12-02 00:51:53,017 : INFO : PROGRESS: at sentence #1030000, processed 1027439 words, keeping 984820 word types\n",
      "2022-12-02 00:51:53,028 : INFO : PROGRESS: at sentence #1040000, processed 1037412 words, keeping 994265 word types\n",
      "2022-12-02 00:51:53,038 : INFO : PROGRESS: at sentence #1050000, processed 1047388 words, keeping 1003686 word types\n",
      "2022-12-02 00:51:53,049 : INFO : PROGRESS: at sentence #1060000, processed 1057362 words, keeping 1013140 word types\n",
      "2022-12-02 00:51:53,060 : INFO : PROGRESS: at sentence #1070000, processed 1067345 words, keeping 1022566 word types\n",
      "2022-12-02 00:51:53,070 : INFO : PROGRESS: at sentence #1080000, processed 1077316 words, keeping 1032016 word types\n",
      "2022-12-02 00:51:53,080 : INFO : PROGRESS: at sentence #1090000, processed 1087294 words, keeping 1041469 word types\n",
      "2022-12-02 00:51:53,091 : INFO : PROGRESS: at sentence #1100000, processed 1097273 words, keeping 1050923 word types\n",
      "2022-12-02 00:51:53,101 : INFO : PROGRESS: at sentence #1110000, processed 1107249 words, keeping 1060388 word types\n",
      "2022-12-02 00:51:53,112 : INFO : PROGRESS: at sentence #1120000, processed 1117225 words, keeping 1069846 word types\n",
      "2022-12-02 00:51:53,123 : INFO : PROGRESS: at sentence #1130000, processed 1127207 words, keeping 1079299 word types\n",
      "2022-12-02 00:51:53,133 : INFO : PROGRESS: at sentence #1140000, processed 1137188 words, keeping 1088768 word types\n",
      "2022-12-02 00:51:53,144 : INFO : PROGRESS: at sentence #1150000, processed 1147163 words, keeping 1098217 word types\n",
      "2022-12-02 00:51:53,155 : INFO : PROGRESS: at sentence #1160000, processed 1157139 words, keeping 1107608 word types\n",
      "2022-12-02 00:51:53,165 : INFO : PROGRESS: at sentence #1170000, processed 1167116 words, keeping 1117046 word types\n",
      "2022-12-02 00:51:53,177 : INFO : PROGRESS: at sentence #1180000, processed 1177089 words, keeping 1126499 word types\n",
      "2022-12-02 00:51:53,189 : INFO : PROGRESS: at sentence #1190000, processed 1187066 words, keeping 1135889 word types\n",
      "2022-12-02 00:51:53,200 : INFO : PROGRESS: at sentence #1200000, processed 1197034 words, keeping 1145310 word types\n",
      "2022-12-02 00:51:53,211 : INFO : PROGRESS: at sentence #1210000, processed 1207007 words, keeping 1154719 word types\n",
      "2022-12-02 00:51:53,223 : INFO : PROGRESS: at sentence #1220000, processed 1216984 words, keeping 1164129 word types\n",
      "2022-12-02 00:51:53,234 : INFO : PROGRESS: at sentence #1230000, processed 1226964 words, keeping 1173587 word types\n",
      "2022-12-02 00:51:53,245 : INFO : PROGRESS: at sentence #1240000, processed 1236939 words, keeping 1182985 word types\n",
      "2022-12-02 00:51:53,256 : INFO : PROGRESS: at sentence #1250000, processed 1246912 words, keeping 1192431 word types\n",
      "2022-12-02 00:51:53,266 : INFO : PROGRESS: at sentence #1260000, processed 1256882 words, keeping 1201839 word types\n",
      "2022-12-02 00:51:53,277 : INFO : PROGRESS: at sentence #1270000, processed 1266859 words, keeping 1211273 word types\n",
      "2022-12-02 00:51:53,288 : INFO : collected 1220696 word types from a corpus of 1276830 raw words and 1280000 sentences\n",
      "2022-12-02 00:51:53,289 : INFO : Creating a fresh vocabulary\n",
      "2022-12-02 00:51:53,785 : INFO : Word2Vec lifecycle event {'msg': 'effective_min_count=10 retains 951 unique words (0.08% of original 1220696, drops 1219745)', 'datetime': '2022-12-02T00:51:53.785696', 'gensim': '4.2.0', 'python': '3.7.15 (default, Nov 10 2022, 12:46:26) \\n[Clang 14.0.6 ]', 'platform': 'Darwin-21.3.0-x86_64-i386-64bit', 'event': 'prepare_vocab'}\n",
      "2022-12-02 00:51:53,786 : INFO : Word2Vec lifecycle event {'msg': 'effective_min_count=10 leaves 31560 word corpus (2.47% of original 1276830, drops 1245270)', 'datetime': '2022-12-02T00:51:53.786490', 'gensim': '4.2.0', 'python': '3.7.15 (default, Nov 10 2022, 12:46:26) \\n[Clang 14.0.6 ]', 'platform': 'Darwin-21.3.0-x86_64-i386-64bit', 'event': 'prepare_vocab'}\n",
      "2022-12-02 00:51:53,793 : INFO : deleting the raw counts dictionary of 1220696 items\n",
      "2022-12-02 00:51:53,825 : INFO : sample=0.001 downsamples 60 most-common words\n",
      "2022-12-02 00:51:53,826 : INFO : Word2Vec lifecycle event {'msg': 'downsampling leaves estimated 24810.445678567467 word corpus (78.6%% of prior 31560)', 'datetime': '2022-12-02T00:51:53.826411', 'gensim': '4.2.0', 'python': '3.7.15 (default, Nov 10 2022, 12:46:26) \\n[Clang 14.0.6 ]', 'platform': 'Darwin-21.3.0-x86_64-i386-64bit', 'event': 'prepare_vocab'}\n",
      "2022-12-02 00:51:53,841 : INFO : estimated required memory for 951 words and 300 dimensions: 2757900 bytes\n",
      "2022-12-02 00:51:53,842 : INFO : resetting layer weights\n",
      "2022-12-02 00:51:53,847 : INFO : Word2Vec lifecycle event {'update': False, 'trim_rule': 'None', 'datetime': '2022-12-02T00:51:53.846978', 'gensim': '4.2.0', 'python': '3.7.15 (default, Nov 10 2022, 12:46:26) \\n[Clang 14.0.6 ]', 'platform': 'Darwin-21.3.0-x86_64-i386-64bit', 'event': 'build_vocab'}\n"
     ]
    }
   ],
   "source": [
    "w2v_model.build_vocab(documents)"
   ]
  },
  {
   "cell_type": "code",
   "execution_count": 29,
   "metadata": {},
   "outputs": [
    {
     "name": "stdout",
     "output_type": "stream",
     "text": [
      "Word2Vec<vocab=951, vector_size=300, alpha=0.025>\n"
     ]
    }
   ],
   "source": [
    "print(w2v_model)"
   ]
  },
  {
   "cell_type": "code",
   "execution_count": 30,
   "metadata": {},
   "outputs": [
    {
     "name": "stdout",
     "output_type": "stream",
     "text": [
      "Vocab size 951\n"
     ]
    }
   ],
   "source": [
    "#guarda en words las keys del indice\n",
    "words = w2v_model.wv.key_to_index.keys()\n",
    "vocab_size = len(words)\n",
    "print(\"Vocab size\", vocab_size)"
   ]
  },
  {
   "cell_type": "code",
   "execution_count": 31,
   "metadata": {},
   "outputs": [
    {
     "name": "stderr",
     "output_type": "stream",
     "text": [
      "2022-12-02 00:52:02,477 : INFO : Word2Vec lifecycle event {'msg': 'training model with 8 workers on 951 vocabulary and 300 features, using sg=0 hs=0 sample=0.001 negative=5 window=7 shrink_windows=True', 'datetime': '2022-12-02T00:52:02.477831', 'gensim': '4.2.0', 'python': '3.7.15 (default, Nov 10 2022, 12:46:26) \\n[Clang 14.0.6 ]', 'platform': 'Darwin-21.3.0-x86_64-i386-64bit', 'event': 'train'}\n",
      "2022-12-02 00:52:03,489 : INFO : EPOCH 0 - PROGRESS: at 77.54% examples, 19072 words/s, in_qsize 0, out_qsize 1\n",
      "2022-12-02 00:52:03,760 : INFO : EPOCH 0: training on 1276830 raw words (24775 effective words) took 1.3s, 19453 effective words/s\n",
      "2022-12-02 00:52:04,774 : INFO : EPOCH 1 - PROGRESS: at 73.62% examples, 18072 words/s, in_qsize 0, out_qsize 1\n",
      "2022-12-02 00:52:05,094 : INFO : EPOCH 1: training on 1276830 raw words (24895 effective words) took 1.3s, 18777 effective words/s\n",
      "2022-12-02 00:52:06,103 : INFO : EPOCH 2 - PROGRESS: at 85.37% examples, 21031 words/s, in_qsize 0, out_qsize 0\n",
      "2022-12-02 00:52:06,261 : INFO : EPOCH 2: training on 1276830 raw words (24799 effective words) took 1.2s, 21410 effective words/s\n",
      "2022-12-02 00:52:07,292 : INFO : EPOCH 3 - PROGRESS: at 87.72% examples, 21157 words/s, in_qsize 1, out_qsize 1\n",
      "2022-12-02 00:52:07,407 : INFO : EPOCH 3: training on 1276830 raw words (24802 effective words) took 1.1s, 21811 effective words/s\n",
      "2022-12-02 00:52:08,429 : INFO : EPOCH 4 - PROGRESS: at 86.93% examples, 21242 words/s, in_qsize 1, out_qsize 1\n",
      "2022-12-02 00:52:08,556 : INFO : EPOCH 4: training on 1276830 raw words (24886 effective words) took 1.1s, 21824 effective words/s\n",
      "2022-12-02 00:52:09,581 : INFO : EPOCH 5 - PROGRESS: at 88.50% examples, 21479 words/s, in_qsize 2, out_qsize 1\n",
      "2022-12-02 00:52:09,687 : INFO : EPOCH 5: training on 1276830 raw words (24840 effective words) took 1.1s, 22136 effective words/s\n",
      "2022-12-02 00:52:10,698 : INFO : EPOCH 6 - PROGRESS: at 86.15% examples, 21229 words/s, in_qsize 0, out_qsize 0\n",
      "2022-12-02 00:52:10,852 : INFO : EPOCH 6: training on 1276830 raw words (24841 effective words) took 1.2s, 21481 effective words/s\n",
      "2022-12-02 00:52:11,868 : INFO : EPOCH 7 - PROGRESS: at 88.50% examples, 21697 words/s, in_qsize 0, out_qsize 0\n",
      "2022-12-02 00:52:12,007 : INFO : EPOCH 7: training on 1276830 raw words (24851 effective words) took 1.1s, 21667 effective words/s\n",
      "2022-12-02 00:52:13,033 : INFO : EPOCH 8 - PROGRESS: at 81.45% examples, 19765 words/s, in_qsize 1, out_qsize 1\n",
      "2022-12-02 00:52:13,239 : INFO : EPOCH 8: training on 1276830 raw words (24882 effective words) took 1.2s, 20349 effective words/s\n",
      "2022-12-02 00:52:14,263 : INFO : EPOCH 9 - PROGRESS: at 86.15% examples, 20950 words/s, in_qsize 0, out_qsize 1\n",
      "2022-12-02 00:52:14,418 : INFO : EPOCH 9: training on 1276830 raw words (24831 effective words) took 1.2s, 21218 effective words/s\n",
      "2022-12-02 00:52:15,428 : INFO : EPOCH 10 - PROGRESS: at 86.15% examples, 21221 words/s, in_qsize 0, out_qsize 0\n",
      "2022-12-02 00:52:15,593 : INFO : EPOCH 10: training on 1276830 raw words (24794 effective words) took 1.2s, 21264 effective words/s\n",
      "2022-12-02 00:52:16,614 : INFO : EPOCH 11 - PROGRESS: at 76.75% examples, 18677 words/s, in_qsize 0, out_qsize 0\n",
      "2022-12-02 00:52:16,912 : INFO : EPOCH 11: training on 1276830 raw words (24817 effective words) took 1.3s, 18933 effective words/s\n",
      "2022-12-02 00:52:17,927 : INFO : EPOCH 12 - PROGRESS: at 84.58% examples, 20759 words/s, in_qsize 0, out_qsize 0\n",
      "2022-12-02 00:52:18,101 : INFO : EPOCH 12: training on 1276830 raw words (24823 effective words) took 1.2s, 21021 effective words/s\n",
      "2022-12-02 00:52:19,112 : INFO : EPOCH 13 - PROGRESS: at 86.93% examples, 21470 words/s, in_qsize 0, out_qsize 0\n",
      "2022-12-02 00:52:19,247 : INFO : EPOCH 13: training on 1276830 raw words (24891 effective words) took 1.1s, 21893 effective words/s\n",
      "2022-12-02 00:52:20,258 : INFO : EPOCH 14 - PROGRESS: at 86.93% examples, 21304 words/s, in_qsize 0, out_qsize 0\n",
      "2022-12-02 00:52:20,402 : INFO : EPOCH 14: training on 1276830 raw words (24745 effective words) took 1.1s, 21585 effective words/s\n",
      "2022-12-02 00:52:21,427 : INFO : EPOCH 15 - PROGRESS: at 86.15% examples, 20900 words/s, in_qsize 0, out_qsize 0\n",
      "2022-12-02 00:52:21,593 : INFO : EPOCH 15: training on 1276830 raw words (24789 effective words) took 1.2s, 20977 effective words/s\n",
      "2022-12-02 00:52:22,632 : INFO : EPOCH 16 - PROGRESS: at 82.24% examples, 19696 words/s, in_qsize 0, out_qsize 2\n",
      "2022-12-02 00:52:22,799 : INFO : EPOCH 16: training on 1276830 raw words (24813 effective words) took 1.2s, 20723 effective words/s\n",
      "2022-12-02 00:52:23,828 : INFO : EPOCH 17 - PROGRESS: at 86.15% examples, 20807 words/s, in_qsize 0, out_qsize 2\n",
      "2022-12-02 00:52:23,959 : INFO : EPOCH 17: training on 1276830 raw words (24813 effective words) took 1.2s, 21561 effective words/s\n",
      "2022-12-02 00:52:24,982 : INFO : EPOCH 18 - PROGRESS: at 87.72% examples, 21379 words/s, in_qsize 0, out_qsize 0\n",
      "2022-12-02 00:52:25,122 : INFO : EPOCH 18: training on 1276830 raw words (24885 effective words) took 1.2s, 21547 effective words/s\n",
      "2022-12-02 00:52:26,131 : INFO : EPOCH 19 - PROGRESS: at 74.41% examples, 18337 words/s, in_qsize 0, out_qsize 0\n",
      "2022-12-02 00:52:26,458 : INFO : EPOCH 19: training on 1276830 raw words (24789 effective words) took 1.3s, 18669 effective words/s\n",
      "2022-12-02 00:52:27,473 : INFO : EPOCH 20 - PROGRESS: at 83.02% examples, 20256 words/s, in_qsize 0, out_qsize 1\n",
      "2022-12-02 00:52:27,664 : INFO : EPOCH 20: training on 1276830 raw words (24673 effective words) took 1.2s, 20617 effective words/s\n",
      "2022-12-02 00:52:28,697 : INFO : EPOCH 21 - PROGRESS: at 82.24% examples, 19737 words/s, in_qsize 1, out_qsize 1\n",
      "2022-12-02 00:52:28,894 : INFO : EPOCH 21: training on 1276830 raw words (24756 effective words) took 1.2s, 20252 effective words/s\n",
      "2022-12-02 00:52:29,903 : INFO : EPOCH 22 - PROGRESS: at 82.24% examples, 20272 words/s, in_qsize 0, out_qsize 0\n",
      "2022-12-02 00:52:30,095 : INFO : EPOCH 22: training on 1276830 raw words (24831 effective words) took 1.2s, 20806 effective words/s\n",
      "2022-12-02 00:52:31,103 : INFO : EPOCH 23 - PROGRESS: at 78.32% examples, 19318 words/s, in_qsize 0, out_qsize 0\n",
      "2022-12-02 00:52:31,368 : INFO : EPOCH 23: training on 1276830 raw words (24781 effective words) took 1.3s, 19589 effective words/s\n",
      "2022-12-02 00:52:32,405 : INFO : EPOCH 24 - PROGRESS: at 83.80% examples, 20110 words/s, in_qsize 0, out_qsize 3\n",
      "2022-12-02 00:52:32,572 : INFO : EPOCH 24: training on 1276830 raw words (24783 effective words) took 1.2s, 20731 effective words/s\n",
      "2022-12-02 00:52:33,580 : INFO : EPOCH 25 - PROGRESS: at 82.24% examples, 20251 words/s, in_qsize 0, out_qsize 0\n",
      "2022-12-02 00:52:33,799 : INFO : EPOCH 25: training on 1276830 raw words (24801 effective words) took 1.2s, 20342 effective words/s\n",
      "2022-12-02 00:52:34,816 : INFO : EPOCH 26 - PROGRESS: at 75.97% examples, 18549 words/s, in_qsize 0, out_qsize 0\n",
      "2022-12-02 00:52:35,127 : INFO : EPOCH 26: training on 1276830 raw words (24775 effective words) took 1.3s, 18780 effective words/s\n",
      "2022-12-02 00:52:36,136 : INFO : EPOCH 27 - PROGRESS: at 78.32% examples, 19387 words/s, in_qsize 0, out_qsize 0\n",
      "2022-12-02 00:52:36,408 : INFO : EPOCH 27: training on 1276830 raw words (24901 effective words) took 1.3s, 19562 effective words/s\n",
      "2022-12-02 00:52:37,439 : INFO : EPOCH 28 - PROGRESS: at 77.54% examples, 18670 words/s, in_qsize 0, out_qsize 1\n",
      "2022-12-02 00:52:37,701 : INFO : EPOCH 28: training on 1276830 raw words (24801 effective words) took 1.3s, 19311 effective words/s\n",
      "2022-12-02 00:52:38,713 : INFO : EPOCH 29 - PROGRESS: at 78.32% examples, 19303 words/s, in_qsize 0, out_qsize 1\n",
      "2022-12-02 00:52:38,976 : INFO : EPOCH 29: training on 1276830 raw words (24857 effective words) took 1.3s, 19628 effective words/s\n",
      "2022-12-02 00:52:39,988 : INFO : EPOCH 30 - PROGRESS: at 80.67% examples, 19811 words/s, in_qsize 0, out_qsize 0\n",
      "2022-12-02 00:52:40,198 : INFO : EPOCH 30: training on 1276830 raw words (24821 effective words) took 1.2s, 20433 effective words/s\n",
      "2022-12-02 00:52:41,210 : INFO : EPOCH 31 - PROGRESS: at 82.24% examples, 20194 words/s, in_qsize 0, out_qsize 0\n",
      "2022-12-02 00:52:41,417 : INFO : EPOCH 31: training on 1276830 raw words (24750 effective words) took 1.2s, 20456 effective words/s\n"
     ]
    },
    {
     "name": "stderr",
     "output_type": "stream",
     "text": [
      "2022-12-02 00:52:41,418 : INFO : Word2Vec lifecycle event {'msg': 'training on 40858560 raw words (794091 effective words) took 38.9s, 20393 effective words/s', 'datetime': '2022-12-02T00:52:41.418571', 'gensim': '4.2.0', 'python': '3.7.15 (default, Nov 10 2022, 12:46:26) \\n[Clang 14.0.6 ]', 'platform': 'Darwin-21.3.0-x86_64-i386-64bit', 'event': 'train'}\n"
     ]
    },
    {
     "name": "stdout",
     "output_type": "stream",
     "text": [
      "CPU times: user 39.1 s, sys: 852 ms, total: 40 s\n",
      "Wall time: 38.9 s\n"
     ]
    },
    {
     "data": {
      "text/plain": [
       "(794091, 40858560)"
      ]
     },
     "execution_count": 31,
     "metadata": {},
     "output_type": "execute_result"
    }
   ],
   "source": [
    "%%time\n",
    "w2v_model.train(documents, total_examples=len(documents), epochs=W2V_EPOCH)"
   ]
  },
  {
   "cell_type": "code",
   "execution_count": 32,
   "metadata": {},
   "outputs": [
    {
     "name": "stdout",
     "output_type": "stream",
     "text": [
      "Total words 1220697\n"
     ]
    }
   ],
   "source": [
    "#Tokenizer text (separar la frase en palabras)\n",
    "tokenizer = Tokenizer()\n",
    "tokenizer.fit_on_texts(df_train.text)\n",
    "\n",
    "vocab_size = len(tokenizer.word_index) + 1\n",
    "print(\"Total words\", vocab_size)"
   ]
  },
  {
   "cell_type": "code",
   "execution_count": 33,
   "metadata": {},
   "outputs": [],
   "source": [
    "x_train = pad_sequences(tokenizer.texts_to_sequences(df_train.text), maxlen=SEQUENCE_LENGTH)\n",
    "x_test = pad_sequences(tokenizer.texts_to_sequences(df_test.text), maxlen=SEQUENCE_LENGTH)"
   ]
  },
  {
   "cell_type": "code",
   "execution_count": 34,
   "metadata": {},
   "outputs": [
    {
     "data": {
      "text/plain": [
       "['POSITIVE', 'NEGATIVE', 'NEUTRAL']"
      ]
     },
     "execution_count": 34,
     "metadata": {},
     "output_type": "execute_result"
    }
   ],
   "source": [
    "#Label encoder\n",
    "#Juntamos toda la lista en labels y la convertimos a lista\n",
    "labels = df_train.target.unique().tolist()\n",
    "labels.append(NEUTRAL)\n",
    "labels"
   ]
  },
  {
   "cell_type": "code",
   "execution_count": 35,
   "metadata": {},
   "outputs": [
    {
     "name": "stdout",
     "output_type": "stream",
     "text": [
      "y_train (1280000, 1)\n",
      "y_test (320000, 1)\n"
     ]
    }
   ],
   "source": [
    "encoder = LabelEncoder()\n",
    "encoder.fit(df_train.target.tolist())\n",
    "\n",
    "y_train = encoder.transform(df_train.target.tolist())\n",
    "y_test = encoder.transform(df_test.target.tolist())\n",
    "\n",
    "y_train = y_train.reshape(-1,1)\n",
    "y_test = y_test.reshape(-1,1)\n",
    "\n",
    "print(\"y_train\", y_train.shape)\n",
    "print(\"y_test\", y_test.shape)"
   ]
  },
  {
   "cell_type": "code",
   "execution_count": 36,
   "metadata": {},
   "outputs": [
    {
     "name": "stdout",
     "output_type": "stream",
     "text": [
      "x_train (1280000, 300)\n",
      "y_train (1280000, 1)\n",
      "\n",
      "x_test (320000, 300)\n",
      "y_test (320000, 1)\n"
     ]
    }
   ],
   "source": [
    "#Miramos las dimensiones de las matrices\n",
    "print(\"x_train\", x_train.shape)\n",
    "print(\"y_train\", y_train.shape)\n",
    "print()\n",
    "print(\"x_test\", x_test.shape)\n",
    "print(\"y_test\", y_test.shape)"
   ]
  },
  {
   "cell_type": "code",
   "execution_count": 37,
   "metadata": {},
   "outputs": [
    {
     "data": {
      "text/plain": [
       "array([[1],\n",
       "       [1],\n",
       "       [1],\n",
       "       [0],\n",
       "       [1],\n",
       "       [1],\n",
       "       [1],\n",
       "       [1],\n",
       "       [1],\n",
       "       [1]])"
      ]
     },
     "execution_count": 37,
     "metadata": {},
     "output_type": "execute_result"
    }
   ],
   "source": [
    "y_train[:10]"
   ]
  },
  {
   "cell_type": "code",
   "execution_count": 38,
   "metadata": {},
   "outputs": [
    {
     "name": "stdout",
     "output_type": "stream",
     "text": [
      "(1220697, 300)\n"
     ]
    }
   ],
   "source": [
    "#Embedding layer\n",
    "embedding_matrix = np.zeros((vocab_size, W2V_SIZE))\n",
    "for word, i in tokenizer.word_index.items():\n",
    "  if word in w2v_model.wv:\n",
    "    embedding_matrix[i] = w2v_model.wv[word]\n",
    "print(embedding_matrix.shape)"
   ]
  },
  {
   "cell_type": "code",
   "execution_count": 39,
   "metadata": {},
   "outputs": [],
   "source": [
    "embedding_layer = Embedding(vocab_size, W2V_SIZE, weights=[embedding_matrix], input_length=SEQUENCE_LENGTH, trainable=False)"
   ]
  },
  {
   "cell_type": "code",
   "execution_count": 40,
   "metadata": {},
   "outputs": [
    {
     "name": "stderr",
     "output_type": "stream",
     "text": [
      "2022-12-02 00:57:38.758834: I tensorflow/core/platform/cpu_feature_guard.cc:193] This TensorFlow binary is optimized with oneAPI Deep Neural Network Library (oneDNN) to use the following CPU instructions in performance-critical operations:  AVX2 FMA\n",
      "To enable them in other operations, rebuild TensorFlow with the appropriate compiler flags.\n"
     ]
    },
    {
     "name": "stdout",
     "output_type": "stream",
     "text": [
      "Model: \"sequential\"\n",
      "_________________________________________________________________\n",
      " Layer (type)                Output Shape              Param #   \n",
      "=================================================================\n",
      " embedding (Embedding)       (None, 300, 300)          366209100 \n",
      "                                                                 \n",
      " dropout (Dropout)           (None, 300, 300)          0         \n",
      "                                                                 \n",
      " lstm (LSTM)                 (None, 100)               160400    \n",
      "                                                                 \n",
      " dense (Dense)               (None, 1)                 101       \n",
      "                                                                 \n",
      "=================================================================\n",
      "Total params: 366,369,601\n",
      "Trainable params: 160,501\n",
      "Non-trainable params: 366,209,100\n",
      "_________________________________________________________________\n"
     ]
    }
   ],
   "source": [
    "#Build a sequential model with keras\n",
    "model = Sequential()\n",
    "model.add(embedding_layer)\n",
    "model.add(Dropout(0.5))\n",
    "model.add(LSTM(100, dropout=0.2, recurrent_dropout=0.2))\n",
    "model.add(Dense(1, activation='sigmoid'))\n",
    "\n",
    "model.summary()"
   ]
  },
  {
   "cell_type": "code",
   "execution_count": 34,
   "metadata": {},
   "outputs": [],
   "source": [
    "#Compile model\n",
    "model.compile(loss='binary_crossentropy', optimizer='adam', metrics=['accuracy'])"
   ]
  },
  {
   "cell_type": "code",
   "execution_count": 35,
   "metadata": {},
   "outputs": [],
   "source": [
    "#Callbacks\n",
    "callbacks = [ReduceLROnPlateau(monitor='val_loss', patience=5, cooldown=0),\n",
    "              EarlyStopping(monitor='val_accuracy', min_delta=1e-4, patience=5)]"
   ]
  },
  {
   "cell_type": "code",
   "execution_count": 38,
   "metadata": {
    "scrolled": true
   },
   "outputs": [
    {
     "name": "stdout",
     "output_type": "stream",
     "text": [
      "1125/1125 [==============================] - 4606s 4s/step - loss: 0.6924 - accuracy: 0.5039 - val_loss: 0.6913 - val_accuracy: 0.5083 - lr: 0.0010\n"
     ]
    }
   ],
   "source": [
    "#Train model\n",
    "history = model.fit(x_train, y_train,\n",
    "                    batch_size=BATCH_SIZE,\n",
    "                    epochs=EPOCHS,\n",
    "                    validation_split=0.1,\n",
    "                    verbose=1,\n",
    "                    callbacks=callbacks)"
   ]
  },
  {
   "cell_type": "code",
   "execution_count": 39,
   "metadata": {},
   "outputs": [
    {
     "name": "stdout",
     "output_type": "stream",
     "text": [
      "313/313 [==============================] - 248s 789ms/step - loss: 0.6912 - accuracy: 0.5063\n",
      "\n",
      "ACCURACY: 0.5063187479972839\n",
      "LOSS: 0.6912016868591309\n"
     ]
    }
   ],
   "source": [
    "#Evaluate model\n",
    "score = model.evaluate(x_test, y_test, batch_size = BATCH_SIZE)\n",
    "print()\n",
    "print(\"ACCURACY:\",score[1])\n",
    "print(\"LOSS:\",score[0])"
   ]
  },
  {
   "cell_type": "code",
   "execution_count": 47,
   "metadata": {},
   "outputs": [
    {
     "data": {
      "image/png": "[encoded data removed]",
      "text/plain": [
       "<Figure size 640x480 with 1 Axes>"
      ]
     },
     "metadata": {},
     "output_type": "display_data"
    },
    {
     "data": {
      "image/png": "[encoded data removed]",
      "text/plain": [
       "<Figure size 640x480 with 1 Axes>"
      ]
     },
     "metadata": {},
     "output_type": "display_data"
    }
   ],
   "source": [
    "#Graficamos evaluate model\n",
    "acc = history.history['accuracy']\n",
    "val_acc = history.history['val_accuracy']\n",
    "loss = history.history['loss']\n",
    "val_loss = history.history['val_loss']\n",
    " \n",
    "epochs = range(len(acc))\n",
    " \n",
    "plt.plot(epochs, acc, 'b', label='Training acc')\n",
    "plt.plot(epochs, val_acc, 'r', label='Validation acc')\n",
    "plt.title('Training and validation accuracy')\n",
    "plt.legend()\n",
    " \n",
    "plt.figure()\n",
    " \n",
    "plt.plot(epochs, loss, 'b', label='Training loss')\n",
    "plt.plot(epochs, val_loss, 'r', label='Validation loss')\n",
    "plt.title('Training and validation loss')\n",
    "plt.legend()\n",
    " \n",
    "plt.show()"
   ]
  },
  {
   "cell_type": "code",
   "execution_count": 48,
   "metadata": {},
   "outputs": [],
   "source": [
    "#Predicción\n",
    "def decode_sentiment(score, include_neutral=True):\n",
    "    if include_neutral:        \n",
    "        label = NEUTRAL\n",
    "        if score <= SENTIMENT_THRESHOLDS[0]:\n",
    "            label = NEGATIVE\n",
    "        elif score >= SENTIMENT_THRESHOLDS[1]:\n",
    "            label = POSITIVE\n",
    "\n",
    "        return label\n",
    "    else:\n",
    "        return NEGATIVE if score < 0.5 else POSITIVE"
   ]
  },
  {
   "cell_type": "code",
   "execution_count": 49,
   "metadata": {},
   "outputs": [],
   "source": [
    "def predict(text, include_neutral=True):\n",
    "    start_at = time.time()\n",
    "    # Tokenize text\n",
    "    x_test = pad_sequences(tokenizer.texts_to_sequences([text]), maxlen=SEQUENCE_LENGTH)\n",
    "    # Predict\n",
    "    score = model.predict([x_test])[0]\n",
    "    # Decode sentiment\n",
    "    label = decode_sentiment(score, include_neutral=include_neutral)\n",
    "\n",
    "    return {\"label\": label, \"score\": float(score),\n",
    "       \"elapsed_time\": time.time()-start_at}  \n"
   ]
  },
  {
   "cell_type": "code",
   "execution_count": 51,
   "metadata": {},
   "outputs": [
    {
     "name": "stdout",
     "output_type": "stream",
     "text": [
      "1/1 [==============================] - 0s 39ms/step\n"
     ]
    },
    {
     "data": {
      "text/plain": [
       "{'label': 'NEUTRAL',\n",
       " 'score': 0.49661582708358765,\n",
       " 'elapsed_time': 0.08388471603393555}"
      ]
     },
     "execution_count": 51,
     "metadata": {},
     "output_type": "execute_result"
    }
   ],
   "source": [
    "predict(\"I hate the rain a lot\")"
   ]
  },
  {
   "cell_type": "code",
   "execution_count": 67,
   "metadata": {},
   "outputs": [
    {
     "name": "stdout",
     "output_type": "stream",
     "text": [
      "40/40 [==============================] - 264s 7s/step\n"
     ]
    }
   ],
   "source": [
    "#Confussion matrix\n",
    "\n",
    "y_test_1d = list(df_test.target)\n",
    "scores = model.predict(x_test, verbose=1, batch_size=8000)\n",
    "y_pred_1d = [decode_sentiment(score, include_neutral=False) for score in scores]\n"
   ]
  },
  {
   "cell_type": "code",
   "execution_count": 64,
   "metadata": {},
   "outputs": [],
   "source": [
    "#Graficamos confussion matrix\n",
    "def plot_confusion_matrix(cm, classes,\n",
    "                          title='Confusion matrix',\n",
    "                          cmap=plt.cm.Blues):\n",
    "    \"\"\"\n",
    "    This function prints and plots the confusion matrix.\n",
    "    Normalization can be applied by setting `normalize=True`.\n",
    "    \"\"\"\n",
    "\n",
    "    cm = cm.astype('float') / cm.sum(axis=1)[:, np.newaxis]\n",
    "\n",
    "    plt.imshow(cm, interpolation='nearest', cmap=cmap)\n",
    "    plt.title(title, fontsize=30)\n",
    "    plt.colorbar()\n",
    "    tick_marks = np.arange(len(classes))\n",
    "    plt.xticks(tick_marks, classes, rotation=90, fontsize=22)\n",
    "    plt.yticks(tick_marks, classes, fontsize=22)\n",
    "\n",
    "    fmt = '.2f'\n",
    "    thresh = cm.max() / 2.\n",
    "    for i, j in itertools.product(range(cm.shape[0]), range(cm.shape[1])):\n",
    "        plt.text(j, i, format(cm[i, j], fmt),\n",
    "                 horizontalalignment=\"center\",\n",
    "                 color=\"white\" if cm[i, j] > thresh else \"black\")\n",
    "\n",
    "    plt.ylabel('True label', fontsize=25)\n",
    "    plt.xlabel('Predicted label', fontsize=25)\n"
   ]
  },
  {
   "cell_type": "code",
   "execution_count": null,
   "metadata": {},
   "outputs": [],
   "source": []
  },
  {
   "cell_type": "code",
   "execution_count": 68,
   "metadata": {},
   "outputs": [
    {
     "data": {
      "image/png": "[encoded data removed]",
      "text/plain": [
       "<Figure size 1200x1200 with 2 Axes>"
      ]
     },
     "metadata": {},
     "output_type": "display_data"
    }
   ],
   "source": [
    "\n",
    "\n",
    "cnf_matrix = confusion_matrix(y_test_1d, y_pred_1d)\n",
    "plt.figure(figsize=(12,12))\n",
    "plot_confusion_matrix(cnf_matrix, classes=df_train.target.unique(), title=\"Confusion matrix\")\n",
    "plt.show()"
   ]
  },
  {
   "cell_type": "code",
   "execution_count": 69,
   "metadata": {},
   "outputs": [
    {
     "name": "stdout",
     "output_type": "stream",
     "text": [
      "              precision    recall  f1-score   support\n",
      "\n",
      "    NEGATIVE       0.50      0.99      0.67    159494\n",
      "    POSITIVE       0.79      0.02      0.04    160506\n",
      "\n",
      "    accuracy                           0.51    320000\n",
      "   macro avg       0.65      0.51      0.35    320000\n",
      "weighted avg       0.65      0.51      0.35    320000\n",
      "\n"
     ]
    }
   ],
   "source": [
    "#Classification report\n",
    "print(classification_report(y_test_1d, y_pred_1d))"
   ]
  },
  {
   "cell_type": "code",
   "execution_count": 70,
   "metadata": {},
   "outputs": [
    {
     "data": {
      "text/plain": [
       "0.50631875"
      ]
     },
     "execution_count": 70,
     "metadata": {},
     "output_type": "execute_result"
    }
   ],
   "source": [
    "#Accuracy score\n",
    "accuracy_score(y_test_1d, y_pred_1d)"
   ]
  },
  {
   "cell_type": "code",
   "execution_count": null,
   "metadata": {},
   "outputs": [],
   "source": []
  }
 ],
 "metadata": {
  "kernelspec": {
   "display_name": "Python 3 (ipykernel)",
   "language": "python",
   "name": "python3"
  },
  "language_info": {
   "codemirror_mode": {
    "name": "ipython",
    "version": 3
   },
   "file_extension": ".py",
   "mimetype": "text/x-python",
   "name": "python",
   "nbconvert_exporter": "python",
   "pygments_lexer": "ipython3",
   "version": "3.7.15"
  }
 },
 "nbformat": 4,
 "nbformat_minor": 2
}
