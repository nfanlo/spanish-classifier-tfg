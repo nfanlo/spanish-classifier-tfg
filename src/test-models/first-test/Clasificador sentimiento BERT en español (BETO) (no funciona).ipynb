{
 "cells": [
  {
   "cell_type": "code",
   "execution_count": 1,
   "id": "c522e9ae",
   "metadata": {},
   "outputs": [],
   "source": [
    "#https://benjad.github.io/2020/08/04/clasificador-sentimiento-BERT/\n",
    "\n",
    "from selenium import webdriver\n",
    "from webdriver_manager.chrome import ChromeDriverManager\n",
    "from selenium.webdriver.support.ui import WebDriverWait\n",
    "from selenium.webdriver.common.by import By\n",
    "from selenium.webdriver.support import expected_conditions as EC\n",
    "from selenium.webdriver.common.action_chains import ActionChains\n",
    "import pandas as pd\n",
    "import time"
   ]
  },
  {
   "cell_type": "code",
   "execution_count": null,
   "id": "129b3be1",
   "metadata": {},
   "outputs": [
    {
     "name": "stderr",
     "output_type": "stream",
     "text": [
      "/Users/nfanlo/anaconda3/lib/python3.7/site-packages/ipykernel_launcher.py:4: DeprecationWarning: executable_path has been deprecated, please pass in a Service object\n",
      "  after removing the cwd from sys.path.\n"
     ]
    },
    {
     "name": "stdout",
     "output_type": "stream",
     "text": [
      "[]\n",
      "end of page\n",
      "[]\n",
      "end of page\n",
      "[]\n",
      "end of page\n",
      "[]\n",
      "end of page\n",
      "[]\n",
      "end of page\n",
      "[]\n",
      "end of page\n"
     ]
    }
   ],
   "source": [
    "#Recopilación de datos\n",
    "#function get reviews from google apps website\n",
    "def get_reviews(url):\n",
    "    driver = webdriver.Chrome(ChromeDriverManager().install())\n",
    "    driver.get(url)\n",
    "    # number of scrolls to keep loading reviews\n",
    "    scroll_loops = 12 \n",
    "    for a in range(scroll_loops):\n",
    "        driver.execute_script(\"window.scrollTo(0,document.body.scrollHeight)\")\n",
    "        time.sleep(3)\n",
    "        show_more = driver.find_elements(By.XPATH, \"//span[.='Mostrar más']\")\n",
    "        print(show_more)\n",
    "        #if a 'show more' button exist, clicks on\n",
    "        if show_more:\n",
    "            time.sleep(2)\n",
    "            element = show_more[0]\n",
    "            actions = ActionChains(driver)\n",
    "            actions.move_to_element(element).perform()\n",
    "            show_more[0].click()\n",
    "            print('click')\n",
    "        else:\n",
    "            driver.execute_script(\"window.scrollTo(0,document.body.scrollHeight)\")\n",
    "            print('end of page')\n",
    "\n",
    "    time.sleep(5)\n",
    "\n",
    "    # Search and click \"see full review\" buttons\n",
    "    element = driver.find_element(\"name\",\"Rc8qze\")\n",
    "    driver.execute_script(\"\"\"var element = arguments[0];element.parentNode.removeChild(element);\"\"\", element)\n",
    "    for button in WebDriverWait(driver, 10).until(EC.visibility_of_all_elements_located((By.XPATH, \"//button[contains(text(),'Ver opinión completa')\"))):\n",
    "        button.click()\n",
    "        time.sleep(1)\n",
    "\n",
    "    # Collect reviews and ratings\n",
    "    main_div = driver.find_element_by_xpath('//div[@jsname=\"fk8dgd\"]')\n",
    "    stars = main_div.find_elements_by_xpath('//div[@class=\"pf5lIe\"]/div[1]')\n",
    "    reviews = main_div.find_elements_by_xpath('//div[@jscontroller=\"LVJlx\"]')\n",
    "    stars_len = len(stars)\n",
    "    reviews_text = [review.text for review in reviews]\n",
    "    stars_text = [star.get_attribute(\"aria-label\") for star in stars[1:(stars_len-5)]]\n",
    "\n",
    "    # Save everything to a .csv file\n",
    "    df = pd.DataFrame(data={'reviews':reviews_text,'stars':stars_text})\n",
    "    df.to_csv('reviews.csv')\n",
    "\n",
    "# Call function on the 'yapo.cl'  google app site\n",
    "get_reviews(\"https://play.google.com/store/apps/details?id=cl.yapo&hl=es_GT&showAllReviews=true\")"
   ]
  },
  {
   "cell_type": "code",
   "execution_count": null,
   "id": "66da70d6",
   "metadata": {},
   "outputs": [],
   "source": []
  }
 ],
 "metadata": {
  "kernelspec": {
   "display_name": "Python 3 (ipykernel)",
   "language": "python",
   "name": "python3"
  },
  "language_info": {
   "codemirror_mode": {
    "name": "ipython",
    "version": 3
   },
   "file_extension": ".py",
   "mimetype": "text/x-python",
   "name": "python",
   "nbconvert_exporter": "python",
   "pygments_lexer": "ipython3",
   "version": "3.7.4"
  }
 },
 "nbformat": 4,
 "nbformat_minor": 5
}
