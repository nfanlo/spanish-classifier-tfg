{
 "cells": [
  {
   "cell_type": "code",
   "execution_count": 1,
   "metadata": {},
   "outputs": [
    {
     "name": "stderr",
     "output_type": "stream",
     "text": [
      "/Users/nfanlo/Library/Python/3.8/lib/python/site-packages/tqdm/auto.py:22: TqdmWarning: IProgress not found. Please update jupyter and ipywidgets. See https://ipywidgets.readthedocs.io/en/stable/user_install.html\n",
      "  from .autonotebook import tqdm as notebook_tqdm\n",
<<<<<<< HEAD
<<<<<<< HEAD
      "2023-01-08 12:50:50.489212: I tensorflow/core/platform/cpu_feature_guard.cc:193] This TensorFlow binary is optimized with oneAPI Deep Neural Network Library (oneDNN) to use the following CPU instructions in performance-critical operations:  AVX2 FMA\n",
=======
      "2023-01-04 09:09:47.135644: I tensorflow/core/platform/cpu_feature_guard.cc:193] This TensorFlow binary is optimized with oneAPI Deep Neural Network Library (oneDNN) to use the following CPU instructions in performance-critical operations:  AVX2 FMA\n",
>>>>>>> 3a34abdc588301a0c80b5a7f09ac390b61d15c72
=======
      "2023-01-04 09:09:47.135644: I tensorflow/core/platform/cpu_feature_guard.cc:193] This TensorFlow binary is optimized with oneAPI Deep Neural Network Library (oneDNN) to use the following CPU instructions in performance-critical operations:  AVX2 FMA\n",
>>>>>>> 3a34abdc588301a0c80b5a7f09ac390b61d15c72
      "To enable them in other operations, rebuild TensorFlow with the appropriate compiler flags.\n"
     ]
    }
   ],
   "source": [
    "from transformers import BertForMaskedLM, BertTokenizer, AdamW, get_linear_schedule_with_warmup\n",
    "import torch\n",
    "import numpy as np\n",
    "from sklearn.model_selection import train_test_split\n",
    "from torch import nn, optim\n",
    "from torch.utils.data import Dataset, DataLoader\n",
    "import pandas as pd\n",
    "from textwrap import wrap\n",
    "import matplotlib.pyplot as plt\n",
    "import nltk\n",
    "from sklearn.feature_extraction.text import CountVectorizer\n",
    "from nltk.corpus import stopwords\n",
    "from wordcloud import WordCloud,STOPWORDS\n",
    "from nltk.stem import WordNetLemmatizer\n",
    "from nltk.tokenize import word_tokenize\n",
    "from bs4 import BeautifulSoup\n",
    "import re,string,unicodedata\n",
    "from sklearn.metrics import classification_report,confusion_matrix,accuracy_score,f1_score, ConfusionMatrixDisplay\n",
    "from sklearn.model_selection import train_test_split\n",
    "from string import punctuation\n",
    "from nltk import pos_tag\n",
    "from nltk.corpus import wordnet\n",
    "from collections import Counter\n",
    "\n",
    "import keras\n",
    "import tensorflow as tf\n",
    "import tensorflow_hub as hub\n",
    "from tensorflow import keras \n",
    "from keras import backend as K\n",
    "from tensorflow.keras.preprocessing import sequence\n",
    "from tensorflow.keras.preprocessing.text import Tokenizer\n",
    "from tensorflow.keras.preprocessing.sequence import pad_sequences\n",
    "from tensorflow.keras.optimizers import Adam\n",
    "from keras.layers import LSTM,Dense,Bidirectional,Input\n",
    "from keras.models import Model\n",
    "import torch\n",
    "\n",
    "import pandas as pd\n",
    "import re\n",
    "from sklearn.model_selection import train_test_split\n",
    "from sklearn.feature_extraction.text import CountVectorizer\n",
    "from sklearn.naive_bayes import MultinomialNB\n",
    "from sklearn.model_selection import GridSearchCV\n",
    "from sklearn.metrics import confusion_matrix\n",
    "from sklearn.metrics import plot_confusion_matrix"
   ]
  },
  {
   "cell_type": "code",
   "execution_count": 2,
   "metadata": {},
   "outputs": [
    {
     "name": "stdout",
     "output_type": "stream",
     "text": [
      "(4340, 2)\n"
     ]
    },
    {
     "data": {
      "text/html": [
       "<div>\n",
       "<style scoped>\n",
       "    .dataframe tbody tr th:only-of-type {\n",
       "        vertical-align: middle;\n",
       "    }\n",
       "\n",
       "    .dataframe tbody tr th {\n",
       "        vertical-align: top;\n",
       "    }\n",
       "\n",
       "    .dataframe thead th {\n",
       "        text-align: right;\n",
       "    }\n",
       "</style>\n",
       "<table border=\"1\" class=\"dataframe\">\n",
       "  <thead>\n",
       "    <tr style=\"text-align: right;\">\n",
       "      <th></th>\n",
       "      <th>text</th>\n",
       "      <th>sentiment</th>\n",
       "    </tr>\n",
       "  </thead>\n",
       "  <tbody>\n",
       "    <tr>\n",
       "      <th>0</th>\n",
       "      <td>@Jorge_LBU Espero que te mejores pronto, vomit...</td>\n",
       "      <td>0</td>\n",
       "    </tr>\n",
       "    <tr>\n",
       "      <th>1</th>\n",
       "      <td>@ClubPaniniMx @PaniniComicsMx genial espero qu...</td>\n",
       "      <td>1</td>\n",
       "    </tr>\n",
       "    <tr>\n",
       "      <th>2</th>\n",
       "      <td>kali uchis va a estar en bahidorá</td>\n",
       "      <td>1</td>\n",
       "    </tr>\n",
       "    <tr>\n",
       "      <th>3</th>\n",
       "      <td>@ferdiazgil @FranDguez sí, lo he leído ese tem...</td>\n",
       "      <td>0</td>\n",
       "    </tr>\n",
       "    <tr>\n",
       "      <th>4</th>\n",
       "      <td>@AbrahamMateoESP Exacto! Todo lo que él hace l...</td>\n",
       "      <td>1</td>\n",
       "    </tr>\n",
       "  </tbody>\n",
       "</table>\n",
       "</div>"
      ],
      "text/plain": [
       "                                                text  sentiment\n",
       "0  @Jorge_LBU Espero que te mejores pronto, vomit...          0\n",
       "1  @ClubPaniniMx @PaniniComicsMx genial espero qu...          1\n",
       "2                  kali uchis va a estar en bahidorá          1\n",
       "3  @ferdiazgil @FranDguez sí, lo he leído ese tem...          0\n",
       "4  @AbrahamMateoESP Exacto! Todo lo que él hace l...          1"
      ]
     },
     "execution_count": 2,
     "metadata": {},
     "output_type": "execute_result"
    }
   ],
   "source": [
    "df_train = pd.read_csv('/Users/nfanlo/dev/spanish-classifier-tfg/dataset/60-20-20/train.csv')\n",
    "print(df_train.shape)\n",
    "df_train.isnull().sum()\n",
    "df_train.sentiment.replace(\"P\" , 2 , inplace = True)\n",
    "df_train.sentiment.replace(\"N\" , 0 , inplace = True)\n",
    "df_train.sentiment.replace(\"NEU\" , 1, inplace = True)\n",
    "df_train.head()"
   ]
  },
  {
   "cell_type": "code",
   "execution_count": 3,
   "metadata": {},
   "outputs": [
    {
     "name": "stdout",
     "output_type": "stream",
     "text": [
      "(1447, 2)\n"
     ]
    },
    {
     "data": {
      "text/html": [
       "<div>\n",
       "<style scoped>\n",
       "    .dataframe tbody tr th:only-of-type {\n",
       "        vertical-align: middle;\n",
       "    }\n",
       "\n",
       "    .dataframe tbody tr th {\n",
       "        vertical-align: top;\n",
       "    }\n",
       "\n",
       "    .dataframe thead th {\n",
       "        text-align: right;\n",
       "    }\n",
       "</style>\n",
       "<table border=\"1\" class=\"dataframe\">\n",
       "  <thead>\n",
       "    <tr style=\"text-align: right;\">\n",
       "      <th></th>\n",
       "      <th>text</th>\n",
       "      <th>sentiment</th>\n",
       "    </tr>\n",
       "  </thead>\n",
       "  <tbody>\n",
       "    <tr>\n",
       "      <th>0</th>\n",
       "      <td>ola wapa k tal stas?? spero k no seas una sorr...</td>\n",
       "      <td>0</td>\n",
       "    </tr>\n",
       "    <tr>\n",
       "      <th>1</th>\n",
       "      <td>@sigridbazan Tu optimismo es admirable</td>\n",
       "      <td>2</td>\n",
       "    </tr>\n",
       "    <tr>\n",
       "      <th>2</th>\n",
       "      <td>Que coraje me dan lxs prepotentxs</td>\n",
       "      <td>0</td>\n",
       "    </tr>\n",
       "    <tr>\n",
       "      <th>3</th>\n",
       "      <td>Limo sadboy de mierda la vida es maravillosa</td>\n",
       "      <td>1</td>\n",
       "    </tr>\n",
       "    <tr>\n",
       "      <th>4</th>\n",
       "      <td>Al discurso de Obama le faltó el \"¿Qué hubiera...</td>\n",
       "      <td>1</td>\n",
       "    </tr>\n",
       "  </tbody>\n",
       "</table>\n",
       "</div>"
      ],
      "text/plain": [
       "                                                text  sentiment\n",
       "0  ola wapa k tal stas?? spero k no seas una sorr...          0\n",
       "1             @sigridbazan Tu optimismo es admirable          2\n",
       "2                 Que coraje me dan lxs prepotentxs           0\n",
       "3      Limo sadboy de mierda la vida es maravillosa           1\n",
       "4  Al discurso de Obama le faltó el \"¿Qué hubiera...          1"
      ]
     },
     "execution_count": 3,
     "metadata": {},
     "output_type": "execute_result"
    }
   ],
   "source": [
    "df_dev = pd.read_csv('/Users/nfanlo/dev/spanish-classifier-tfg/dataset/60-20-20/dev.csv')\n",
    "print(df_dev.shape)\n",
    "df_dev.isnull().sum()\n",
    "df_dev.sentiment.replace(\"P\" , 2 , inplace = True)\n",
    "df_dev.sentiment.replace(\"N\" , 0 , inplace = True)\n",
    "df_dev.sentiment.replace(\"NEU\" , 1, inplace = True)\n",
    "df_dev.head()"
   ]
  },
  {
   "cell_type": "code",
<<<<<<< HEAD
<<<<<<< HEAD
   "execution_count": 4,
=======
   "execution_count": 10,
>>>>>>> 3a34abdc588301a0c80b5a7f09ac390b61d15c72
=======
   "execution_count": 10,
>>>>>>> 3a34abdc588301a0c80b5a7f09ac390b61d15c72
   "metadata": {},
   "outputs": [],
   "source": [
    "x_train = df_train.iloc[:, 0]\n",
    "y_train = df_train.iloc[:, 1]\n",
    "x_dev = df_dev.iloc[:, 0]\n",
    "y_dev = df_dev.iloc[:, 1]\n"
   ]
  },
  {
   "cell_type": "code",
<<<<<<< HEAD
<<<<<<< HEAD
   "execution_count": 5,
=======
   "execution_count": 25,
>>>>>>> 3a34abdc588301a0c80b5a7f09ac390b61d15c72
=======
   "execution_count": 25,
>>>>>>> 3a34abdc588301a0c80b5a7f09ac390b61d15c72
   "metadata": {},
   "outputs": [],
   "source": [
    "#Funcion que CREA + FIT el Naive Bayes\n",
    "def naive_bayes():\n",
    "    count_vect = CountVectorizer()\n",
    "    x_train_count = count_vect.fit_transform(x_train)\n",
    "    x_dev_count = count_vect.transform(x_dev)\n",
    "\n",
    "    param_grid = [{'alpha': [0.1, 0.2, 0.3, 0.4, 0.5, 0.6, 0.7, 0.8, 0.9, 1]}]\n",
    "\n",
    "    mln = MultinomialNB()\n",
<<<<<<< HEAD
<<<<<<< HEAD
    "    clf = GridSearchCV(mln, param_grid, cv=4)\n",
    "    clf.fit(x_train_count, y_train)\n",
    "\n",
    "    print(\"optimun alpha:{}\".format(clf.best_params_['alpha']))\n",
    "\n",
    "    print(\"accuracy: {}\".format(clf.score(x_dev_count, y_dev)))\n",
    "\n",
    "    y_dev_pred = clf.predict(x_dev_count)\n",
    "    conf_matrix = plot_confusion_matrix(clf, x_dev_count, y_dev, normalize='true')\n",
    "    plt.show()\n",
    "\n",
    "    target_names = ['1', '2', '3']\n",
    "    print(classification_report(y_dev, y_dev_pred, target_names=target_names))\n"
   ]
  },
  {
   "cell_type": "code",
   "execution_count": 6,
   "metadata": {},
   "outputs": [
    {
     "name": "stdout",
     "output_type": "stream",
     "text": [
      "optimun alpha:0.8\n",
      "accuracy: 0.5390463026952315\n"
     ]
    },
    {
     "name": "stderr",
     "output_type": "stream",
     "text": [
      "/Users/nfanlo/Library/Python/3.8/lib/python/site-packages/sklearn/utils/deprecation.py:87: FutureWarning: Function plot_confusion_matrix is deprecated; Function `plot_confusion_matrix` is deprecated in 1.0 and will be removed in 1.2. Use one of the class methods: ConfusionMatrixDisplay.from_predictions or ConfusionMatrixDisplay.from_estimator.\n",
      "  warnings.warn(msg, category=FutureWarning)\n"
     ]
    },
    {
     "data": {
      "image/png": "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",
      "text/plain": [
       "<Figure size 640x480 with 2 Axes>"
      ]
     },
     "metadata": {},
     "output_type": "display_data"
    },
    {
     "name": "stdout",
     "output_type": "stream",
     "text": [
      "              precision    recall  f1-score   support\n",
      "\n",
      "           1       0.56      0.76      0.64       599\n",
      "           2       0.43      0.32      0.37       440\n",
      "           3       0.61      0.46      0.52       408\n",
      "\n",
      "    accuracy                           0.54      1447\n",
      "   macro avg       0.53      0.51      0.51      1447\n",
      "weighted avg       0.53      0.54      0.52      1447\n",
      "\n"
     ]
    }
   ],
   "source": [
    "naive_bayes()"
   ]
  },
  {
   "cell_type": "code",
   "execution_count": 7,
   "metadata": {},
   "outputs": [
    {
     "name": "stdout",
     "output_type": "stream",
     "text": [
      "(4340, 2)\n",
      "(1447, 2)\n"
     ]
    }
   ],
   "source": [
    "#Naive Bayes with data clearing on train and dev\n",
    "\n",
    "# Select cpu or cuda\n",
    "run_on = 'cpu'\n",
    "device = torch.device(run_on)\n",
    "\n",
    "df_train = pd.read_csv('/Users/nfanlo/dev/spanish-classifier-tfg/dataset/60-20-20/train.csv')\n",
    "print(df_train.shape)\n",
    "df_train.isnull().sum()\n",
    "df_train.sentiment.replace(\"P\" , 2 , inplace = True)\n",
    "df_train.sentiment.replace(\"N\" , 0 , inplace = True)\n",
    "df_train.sentiment.replace(\"NEU\" , 1, inplace = True)\n",
    "df_train.head()\n",
    "df_train['review'] = df_train['text']\n",
    "df_train.drop('text', axis=1, inplace=True)\n",
    "df_train['label'] = df_train['sentiment']\n",
    "df_train.drop('sentiment', axis=1, inplace=True)\n",
    "\n",
    "df_dev = pd.read_csv('/Users/nfanlo/dev/spanish-classifier-tfg/dataset/60-20-20/dev.csv')\n",
    "print(df_dev.shape)\n",
    "df_dev.isnull().sum()\n",
    "df_dev.sentiment.replace(\"P\" , 2 , inplace = True)\n",
    "df_dev.sentiment.replace(\"N\" , 0 , inplace = True)\n",
    "df_dev.sentiment.replace(\"NEU\" , 1, inplace = True)\n",
    "df_dev['review'] = df_dev['text']\n",
    "df_dev.drop('text', axis=1, inplace=True)\n",
    "df_dev['label'] = df_dev['sentiment']\n",
    "df_dev.drop('sentiment', axis=1, inplace=True)"
   ]
  },
  {
   "cell_type": "code",
   "execution_count": 8,
   "metadata": {},
   "outputs": [],
   "source": [
    "##CUSTOM DEFINED FUNCTIONS TO CLEAN THE TWEETS\n",
    "\n",
    "\n",
    "#Remove punctuations, links, mentions and \\r\\n new line characters\n",
    "def strip_all_entities(text): \n",
    "    text = text.replace('\\r', '').replace('\\n', ' ').replace('\\n', ' ').lower() #remove \\n and \\r and lowercase\n",
    "    text = re.sub(r\"(?:\\@|https?\\://)\\S+\", \"\", text) #remove links and mentions\n",
    "    text = re.sub(r'[^\\x00-\\x7f]',r'', text) #remove non utf8/ascii characters such as '\\x9a\\x91\\x97\\x9a\\x97'\n",
    "    banned_list= string.punctuation + 'Ã'+'±'+'ã'+'¼'+'â'+'»'+'§'\n",
    "    table = str.maketrans('', '', banned_list)\n",
    "    text = text.translate(table)\n",
    "    return text\n",
    "\n",
    "#clean hashtags at the end of the sentence, and keep those in the middle of the sentence by removing just the # symbol\n",
    "def clean_hashtags(tweet):\n",
    "    new_tweet = \" \".join(word.strip() for word in re.split('#(?!(?:hashtag)\\b)[\\w-]+(?=(?:\\s+#[\\w-]+)*\\s*$)', tweet)) #remove last hashtags\n",
    "    new_tweet2 = \" \".join(word.strip() for word in re.split('#|_', new_tweet)) #remove hashtags symbol from words in the middle of the sentence\n",
    "    return new_tweet2\n",
    "\n",
    "#Filter special characters such as & and $ present in some words\n",
    "def filter_chars(a):\n",
    "    sent = []\n",
    "    for word in a.split(' '):\n",
    "        if ('$' in word) | ('&' in word):\n",
    "            sent.append('')\n",
    "        else:\n",
    "            sent.append(word)\n",
    "    return ' '.join(sent)\n",
    "\n",
    "def remove_mult_spaces(text): # remove multiple spaces\n",
    "    return re.sub(\"\\s\\s+\" , \" \", text)"
   ]
  },
  {
   "cell_type": "code",
   "execution_count": 9,
   "metadata": {},
   "outputs": [],
   "source": [
    "review_new_train = []\n",
    "review_new_dev = []\n",
    "for t in df_train.review:\n",
    "    review_new_train.append(remove_mult_spaces(filter_chars(clean_hashtags(strip_all_entities(t)))))\n",
    "\n",
    "for t in df_dev.review:\n",
    "    review_new_dev.append(remove_mult_spaces(filter_chars(clean_hashtags(strip_all_entities(t)))))"
   ]
  },
  {
   "cell_type": "code",
   "execution_count": 10,
   "metadata": {},
   "outputs": [],
   "source": [
    "df_train['review'] = review_new_train\n",
    "df_dev['review'] = review_new_dev"
   ]
  },
  {
   "cell_type": "code",
   "execution_count": 11,
   "metadata": {},
   "outputs": [],
   "source": [
    "X_train = df_train.iloc[:, 0]\n",
    "y_train = df_train.iloc[:, 1]\n",
    "X_dev = df_dev.iloc[:, 0]\n",
    "y_dev = df_dev.iloc[:, 1]"
   ]
  },
  {
   "cell_type": "code",
   "execution_count": 12,
   "metadata": {},
   "outputs": [],
   "source": [
    "#Funcion que CREA + FIT el Naive Bayes\n",
    "def naive_bayes():\n",
    "    count_vect = CountVectorizer()\n",
    "    x_train_count = count_vect.fit_transform(X_train)\n",
    "    x_dev_count = count_vect.transform(X_dev)\n",
    "\n",
    "    param_grid = [{'alpha': [0.1, 0.2, 0.3, 0.4, 0.5, 0.6, 0.7, 0.8, 0.9, 1]}]\n",
    "\n",
    "    mln = MultinomialNB()\n",
    "    clf = GridSearchCV(mln, param_grid, cv=4)\n",
=======
    "    clf = GridSearchCV(mln, param_grid, cv=5)\n",
>>>>>>> 3a34abdc588301a0c80b5a7f09ac390b61d15c72
=======
    "    clf = GridSearchCV(mln, param_grid, cv=5)\n",
>>>>>>> 3a34abdc588301a0c80b5a7f09ac390b61d15c72
    "    clf.fit(x_train_count, y_train)\n",
    "\n",
    "    print(\"optimun alpha:{}\".format(clf.best_params_['alpha']))\n",
    "\n",
    "    print(\"accuracy: {}\".format(clf.score(x_dev_count, y_dev)))\n",
    "\n",
    "    y_dev_pred = clf.predict(x_dev_count)\n",
    "    conf_matrix = plot_confusion_matrix(clf, x_dev_count, y_dev, cmap=plt.cm.summer, normalize='true')\n",
    "    plt.show()\n",
    "\n",
    "    target_names = ['1', '2', '3']\n",
<<<<<<< HEAD
<<<<<<< HEAD
    "    print(classification_report(y_dev, y_dev_pred, target_names=target_names))"
=======
    "    print(classification_report(y_dev, y_dev_pred, target_names=target_names))\n"
>>>>>>> 3a34abdc588301a0c80b5a7f09ac390b61d15c72
=======
    "    print(classification_report(y_dev, y_dev_pred, target_names=target_names))\n"
>>>>>>> 3a34abdc588301a0c80b5a7f09ac390b61d15c72
   ]
  },
  {
   "cell_type": "code",
<<<<<<< HEAD
<<<<<<< HEAD
   "execution_count": 13,
=======
   "execution_count": 26,
>>>>>>> 3a34abdc588301a0c80b5a7f09ac390b61d15c72
=======
   "execution_count": 26,
>>>>>>> 3a34abdc588301a0c80b5a7f09ac390b61d15c72
   "metadata": {},
   "outputs": [
    {
     "name": "stdout",
     "output_type": "stream",
     "text": [
      "optimun alpha:0.9\n",
<<<<<<< HEAD
<<<<<<< HEAD
      "accuracy: 0.5514858327574291\n"
=======
      "accuracy: 0.5473393227366966\n"
>>>>>>> 3a34abdc588301a0c80b5a7f09ac390b61d15c72
=======
      "accuracy: 0.5473393227366966\n"
>>>>>>> 3a34abdc588301a0c80b5a7f09ac390b61d15c72
     ]
    },
    {
     "name": "stderr",
     "output_type": "stream",
     "text": [
      "/Users/nfanlo/Library/Python/3.8/lib/python/site-packages/sklearn/utils/deprecation.py:87: FutureWarning: Function plot_confusion_matrix is deprecated; Function `plot_confusion_matrix` is deprecated in 1.0 and will be removed in 1.2. Use one of the class methods: ConfusionMatrixDisplay.from_predictions or ConfusionMatrixDisplay.from_estimator.\n",
      "  warnings.warn(msg, category=FutureWarning)\n"
     ]
    },
    {
     "data": {
<<<<<<< HEAD
<<<<<<< HEAD
      "image/png": "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",
=======
      "image/png": "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",
>>>>>>> 3a34abdc588301a0c80b5a7f09ac390b61d15c72
=======
      "image/png": "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",
>>>>>>> 3a34abdc588301a0c80b5a7f09ac390b61d15c72
      "text/plain": [
       "<Figure size 640x480 with 2 Axes>"
      ]
     },
     "metadata": {},
     "output_type": "display_data"
    },
    {
     "name": "stdout",
     "output_type": "stream",
     "text": [
      "              precision    recall  f1-score   support\n",
      "\n",
<<<<<<< HEAD
<<<<<<< HEAD
      "           1       0.58      0.75      0.65       599\n",
      "           2       0.43      0.34      0.38       440\n",
      "           3       0.61      0.49      0.54       408\n",
      "\n",
      "    accuracy                           0.55      1447\n",
      "   macro avg       0.54      0.53      0.53      1447\n",
      "weighted avg       0.54      0.55      0.54      1447\n",
=======
=======
>>>>>>> 3a34abdc588301a0c80b5a7f09ac390b61d15c72
      "           1       0.56      0.78      0.65       599\n",
      "           2       0.44      0.32      0.37       440\n",
      "           3       0.63      0.45      0.52       408\n",
      "\n",
      "    accuracy                           0.55      1447\n",
      "   macro avg       0.54      0.52      0.52      1447\n",
      "weighted avg       0.54      0.55      0.53      1447\n",
<<<<<<< HEAD
>>>>>>> 3a34abdc588301a0c80b5a7f09ac390b61d15c72
=======
>>>>>>> 3a34abdc588301a0c80b5a7f09ac390b61d15c72
      "\n"
     ]
    }
   ],
   "source": [
    "naive_bayes()"
   ]
  },
  {
   "cell_type": "code",
   "execution_count": null,
   "metadata": {},
   "outputs": [],
   "source": []
  }
 ],
 "metadata": {
  "kernelspec": {
   "display_name": "Python 3.8.9 64-bit",
   "language": "python",
   "name": "python3"
  },
  "language_info": {
   "codemirror_mode": {
    "name": "ipython",
    "version": 3
   },
   "file_extension": ".py",
   "mimetype": "text/x-python",
   "name": "python",
   "nbconvert_exporter": "python",
   "pygments_lexer": "ipython3",
   "version": "3.8.9"
  },
  "orig_nbformat": 4,
  "vscode": {
   "interpreter": {
    "hash": "31f2aee4e71d21fbe5cf8b01ff0e069b9275f58929596ceb00d14d90e3e16cd6"
   }
  }
 },
 "nbformat": 4,
 "nbformat_minor": 2
}
