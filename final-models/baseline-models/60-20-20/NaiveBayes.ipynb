{
 "cells": [
  {
   "cell_type": "code",
   "execution_count": 22,
   "metadata": {},
   "outputs": [
    {
     "name": "stdout",
     "output_type": "stream",
     "text": [
      "(4340, 2)\n",
      "(1447, 2)\n",
      "(1447, 2)\n"
     ]
    }
   ],
   "source": [
    "#Naive Bayes without cleaning stopwords\n",
    "import numpy as np\n",
    "import pandas as pd\n",
    "from textwrap import wrap\n",
    "import matplotlib.pyplot as plt\n",
    "\n",
    "from sklearn.feature_extraction.text import CountVectorizer\n",
    "from nltk.corpus import stopwords\n",
    "from sklearn.metrics import classification_report,f1_score,precision_score,recall_score, confusion_matrix, ConfusionMatrixDisplay, accuracy_score\n",
    "from sklearn.naive_bayes import MultinomialNB\n",
    "from sklearn.model_selection import GridSearchCV\n",
    "\n",
    "from string import punctuation\n",
    "from nltk import pos_tag\n",
    "from nltk.corpus import wordnet\n",
    "\n",
    "\n",
    "df_train = pd.read_csv('/Users/nfanlo/dev/spanish-classifier-tfg/dataset/60-20-20/train.csv')\n",
    "print(df_train.shape)\n",
    "df_train.isnull().sum()\n",
    "df_train.sentiment.replace(\"P\" , 2 , inplace = True)\n",
    "df_train.sentiment.replace(\"N\" , 0 , inplace = True)\n",
    "df_train.sentiment.replace(\"NEU\" , 1, inplace = True)\n",
    "df_train.head()\n",
    "df_train['review'] = df_train['text']\n",
    "df_train.drop('text', axis=1, inplace=True)\n",
    "df_train['label'] = df_train['sentiment']\n",
    "df_train.drop('sentiment', axis=1, inplace=True)\n",
    "\n",
    "df_dev = pd.read_csv('/Users/nfanlo/dev/spanish-classifier-tfg/dataset/60-20-20/dev.csv')\n",
    "print(df_dev.shape)\n",
    "df_dev.isnull().sum()\n",
    "df_dev.sentiment.replace(\"P\" , 2 , inplace = True)\n",
    "df_dev.sentiment.replace(\"N\" , 0 , inplace = True)\n",
    "df_dev.sentiment.replace(\"NEU\" , 1, inplace = True)\n",
    "df_dev['review'] = df_dev['text']\n",
    "df_dev.drop('text', axis=1, inplace=True)\n",
    "df_dev['label'] = df_dev['sentiment']\n",
    "df_dev.drop('sentiment', axis=1, inplace=True)\n",
    "\n",
    "df_test = pd.read_csv('/Users/nfanlo/dev/spanish-classifier-tfg/dataset/60-20-20/test.csv')\n",
    "print(df_dev.shape)\n",
    "df_test.isnull().sum()\n",
    "df_test.sentiment.replace(\"P\" , 2 , inplace = True)\n",
    "df_test.sentiment.replace(\"N\" , 0 , inplace = True)\n",
    "df_test.sentiment.replace(\"NEU\" , 1, inplace = True)\n",
    "df_test['review'] = df_test['text']\n",
    "df_test.drop('text', axis=1, inplace=True)\n",
    "df_test['label'] = df_test['sentiment']\n",
    "df_test.drop('sentiment', axis=1, inplace=True)"
   ]
  },
  {
   "cell_type": "code",
   "execution_count": 23,
   "metadata": {},
   "outputs": [],
   "source": [
    "X_train = df_train.iloc[:, 0]\n",
    "y_train = df_train.iloc[:, 1]\n",
    "X_dev = df_dev.iloc[:, 0]\n",
    "y_dev = df_dev.iloc[:, 1]\n",
    "X_test = df_test.iloc[:, 0]\n",
    "y_test = df_test.iloc[:, 1]"
   ]
  },
  {
   "cell_type": "code",
   "execution_count": 24,
   "metadata": {},
   "outputs": [
    {
     "data": {
      "text/plain": [
       "0       ola wapa k tal stas?? spero k no seas una sorr...\n",
       "1                  @sigridbazan Tu optimismo es admirable\n",
       "2                      Que coraje me dan lxs prepotentxs \n",
       "3           Limo sadboy de mierda la vida es maravillosa \n",
       "4       Al discurso de Obama le faltó el \"¿Qué hubiera...\n",
       "                              ...                        \n",
       "1442                 Nadie quiere ir a tomar café conmigo\n",
       "1443    @JuapochoHH sorry not sorry  pd quedamos en me...\n",
       "1444    @sandyxyxx es lo que tiene Amazon  a uno que c...\n",
       "1445    Que bueno que no soy mamá, sería la peor de to...\n",
       "1446       Tener grandes eectativas a futuro, eso es vida\n",
       "Name: review, Length: 1447, dtype: object"
      ]
     },
     "execution_count": 24,
     "metadata": {},
     "output_type": "execute_result"
    }
   ],
   "source": [
    "X_train\n",
    "X_dev"
   ]
  },
  {
   "cell_type": "code",
   "execution_count": 33,
   "metadata": {},
   "outputs": [],
   "source": [
    "#function that create and fit the naive bayes model\n",
    "def naive_bayes():\n",
    "    count_vect = CountVectorizer()\n",
    "    X_train_count = count_vect.fit_transform(X_train)\n",
    "    X_test_count = count_vect.transform(X_dev)\n",
    "\n",
    "    param_grid = [{'alpha':[0.1, 0.2, 0.3, 0.4, 0.5, 0.6,\n",
    "                 0.7, 0.8, 0.9, 1]}]\n",
    "\n",
    "    mln = MultinomialNB()\n",
    "    clf = GridSearchCV(mln, param_grid,cv=4)\n",
    "    clf.fit(X_train_count, y_train)\n",
    "\n",
    "    print(\"optimun alpha:{}\".format(\n",
    "          clf.best_params_['alpha']))\n",
    "\n",
    "    y_dev_pred = clf.predict(X_test_count)\n",
    "    conf_matrix = ConfusionMatrixDisplay.from_estimator(\n",
    "                  clf,X_test_count, y_dev,\n",
    "                  cmap=plt.cm.summer, normalize='true')\n",
    "    plt.show()\n",
    "    \n",
    "    target_names = ['1', '2', '3']\n",
    "    print(classification_report(y_dev, y_dev_pred, target_names=target_names))\n",
    "    print(\"f1 score macro:\", f1_score(y_dev, y_dev_pred, average='macro'))\n",
    "    print(\"accuracy score:\", accuracy_score(y_dev, y_dev_pred))\n",
    "    print(\"precision score macro:\", precision_score(y_dev, y_dev_pred, average='macro'))\n",
    "    print(\"recall score macro:\", recall_score(y_dev, y_dev_pred, average='macro'))"
   ]
  },
  {
   "cell_type": "code",
   "execution_count": 34,
   "metadata": {},
   "outputs": [
    {
     "name": "stdout",
     "output_type": "stream",
     "text": [
      "optimun alpha:0.8\n"
     ]
    },
    {
     "data": {
      "image/png": "[encoded data removed]",
      "text/plain": [
       "<Figure size 640x480 with 2 Axes>"
      ]
     },
     "metadata": {},
     "output_type": "display_data"
    },
    {
     "name": "stdout",
     "output_type": "stream",
     "text": [
      "              precision    recall  f1-score   support\n",
      "\n",
      "           1       0.56      0.76      0.64       599\n",
      "           2       0.43      0.32      0.37       440\n",
      "           3       0.61      0.46      0.52       408\n",
      "\n",
      "    accuracy                           0.54      1447\n",
      "   macro avg       0.53      0.51      0.51      1447\n",
      "weighted avg       0.53      0.54      0.52      1447\n",
      "\n",
      "f1 score macro: 0.5099337102596654\n",
      "accuracy score: 0.5390463026952315\n",
      "precision score macro: 0.531693143481477\n",
      "recall score macro: 0.5109251951906376\n"
     ]
    }
   ],
   "source": [
    "naive_bayes()"
   ]
  },
  {
   "cell_type": "code",
   "execution_count": 36,
   "metadata": {},
   "outputs": [
    {
     "name": "stdout",
     "output_type": "stream",
     "text": [
      "(4340, 2)\n",
      "(1447, 2)\n"
     ]
    }
   ],
   "source": [
    "#Naive Bayes with cleaning stopwords\n",
    "import numpy as np\n",
    "import pandas as pd\n",
    "from textwrap import wrap\n",
    "import matplotlib.pyplot as plt\n",
    "\n",
    "from sklearn.feature_extraction.text import CountVectorizer\n",
    "from nltk.corpus import stopwords\n",
    "\n",
    "import re,string,unicodedata\n",
    "from sklearn.metrics import classification_report,f1_score, accuracy_score, precision_score, recall_score, ConfusionMatrixDisplay\n",
    "from sklearn.naive_bayes import MultinomialNB\n",
    "from sklearn.model_selection import GridSearchCV\n",
    "\n",
    "from string import punctuation\n",
    "from nltk import pos_tag\n",
    "from nltk.corpus import wordnet\n",
    "from collections import Counter\n",
    "\n",
    "\n",
    "df_train = pd.read_csv('/Users/nfanlo/dev/spanish-classifier-tfg/dataset/60-20-20/train.csv')\n",
    "print(df_train.shape)\n",
    "df_train.isnull().sum()\n",
    "df_train.sentiment.replace(\"P\" , 2 , inplace = True)\n",
    "df_train.sentiment.replace(\"N\" , 0 , inplace = True)\n",
    "df_train.sentiment.replace(\"NEU\" , 1, inplace = True)\n",
    "df_train.head()\n",
    "df_train['review'] = df_train['text']\n",
    "df_train.drop('text', axis=1, inplace=True)\n",
    "df_train['label'] = df_train['sentiment']\n",
    "df_train.drop('sentiment', axis=1, inplace=True)\n",
    "\n",
    "df_dev = pd.read_csv('/Users/nfanlo/dev/spanish-classifier-tfg/dataset/60-20-20/dev.csv')\n",
    "print(df_dev.shape)\n",
    "df_dev.isnull().sum()\n",
    "df_dev.sentiment.replace(\"P\" , 2 , inplace = True)\n",
    "df_dev.sentiment.replace(\"N\" , 0 , inplace = True)\n",
    "df_dev.sentiment.replace(\"NEU\" , 1, inplace = True)\n",
    "df_dev['review'] = df_dev['text']\n",
    "df_dev.drop('text', axis=1, inplace=True)\n",
    "df_dev['label'] = df_dev['sentiment']\n",
    "df_dev.drop('sentiment', axis=1, inplace=True)"
   ]
  },
  {
   "cell_type": "code",
   "execution_count": 37,
   "metadata": {},
   "outputs": [],
   "source": [
    "##CUSTOM DEFINED FUNCTIONS TO CLEAN THE TWEETS\n",
    "\n",
    "#Remove punctuations, links, mentions and \\r\\n new line characters\n",
    "def strip_all_entities(text): \n",
    "    text = text.replace('\\r', '').replace('\\n', ' ').replace('\\n', ' ').lower() #remove \\n and \\r and lowercase\n",
    "    text = re.sub(r\"(?:\\@|https?\\://)\\S+\", \"\", text) #remove links and mentions\n",
    "    text = re.sub(r'[^\\x00-\\x7f]',r'', text) #remove non utf8/ascii characters such as '\\x9a\\x91\\x97\\x9a\\x97'\n",
    "    banned_list= string.punctuation + 'Ã'+'±'+'ã'+'¼'+'â'+'»'+'§'\n",
    "    table = str.maketrans('', '', banned_list)\n",
    "    text = text.translate(table)\n",
    "    return text\n",
    "\n",
    "#clean hashtags at the end of the sentence, and keep those in the middle of the sentence by removing just the # symbol\n",
    "def clean_hashtags(tweet):\n",
    "    new_tweet = \" \".join(word.strip() for word in re.split('#(?!(?:hashtag)\\b)[\\w-]+(?=(?:\\s+#[\\w-]+)*\\s*$)', tweet)) #remove last hashtags\n",
    "    new_tweet2 = \" \".join(word.strip() for word in re.split('#|_', new_tweet)) #remove hashtags symbol from words in the middle of the sentence\n",
    "    return new_tweet2\n",
    "\n",
    "#Filter special characters such as & and $ present in some words\n",
    "def filter_chars(a):\n",
    "    sent = []\n",
    "    for word in a.split(' '):\n",
    "        if ('$' in word) | ('&' in word):\n",
    "            sent.append('')\n",
    "        else:\n",
    "            sent.append(word)\n",
    "    return ' '.join(sent)\n",
    "\n",
    "def remove_mult_spaces(text): # remove multiple spaces\n",
    "    return re.sub(\"\\s\\s+\" , \" \", text)"
   ]
  },
  {
   "cell_type": "code",
   "execution_count": 38,
   "metadata": {},
   "outputs": [],
   "source": [
    "def clean_reviews(df):\n",
    "    cleaned_reviews = []\n",
    "    for t in df.review:\n",
    "        cleaned_reviews.append(remove_mult_spaces(filter_chars(clean_hashtags(strip_all_entities(t)))))\n",
    "    return cleaned_reviews\n",
    "\n",
    "\n",
    "review_new_train = clean_reviews(df_train)\n",
    "review_new_dev = clean_reviews(df_dev)"
   ]
  },
  {
   "cell_type": "code",
   "execution_count": 39,
   "metadata": {},
   "outputs": [],
   "source": [
    "df_train['review'] = review_new_train\n",
    "df_dev['review'] = review_new_dev\n",
    "\n",
    "X_train = df_train.iloc[:, 0]\n",
    "y_train = df_train.iloc[:, 1]\n",
    "X_dev = df_dev.iloc[:, 0]\n",
    "y_dev = df_dev.iloc[:, 1]"
   ]
  },
  {
   "cell_type": "code",
   "execution_count": 40,
   "metadata": {},
   "outputs": [
    {
     "data": {
      "text/plain": [
       "0       ola wapa k tal stas spero k no seas una sorra ...\n",
       "1                               tu optimismo es admirable\n",
       "2                       que coraje me dan lxs prepotentxs\n",
       "3            limo sadboy de mierda la vida es maravillosa\n",
       "4       al discurso de obama le falt el qu hubieran he...\n",
       "                              ...                        \n",
       "1442                  nadie quiere ir a tomar caf conmigo\n",
       "1443            sorry not sorry pd quedamos en medievales\n",
       "1444    es lo que tiene amazon a uno que conozco le ll...\n",
       "1445    que bueno que no soy mam sera la peor de todas...\n",
       "1446        tener grandes eectativas a futuro eso es vida\n",
       "Name: review, Length: 1447, dtype: object"
      ]
     },
     "execution_count": 40,
     "metadata": {},
     "output_type": "execute_result"
    }
   ],
   "source": [
    "X_train\n",
    "X_dev"
   ]
  },
  {
   "cell_type": "code",
   "execution_count": 41,
   "metadata": {},
   "outputs": [],
   "source": [
    "#function that create and fit the naive bayes model\n",
    "def naive_bayes():\n",
    "    count_vect = CountVectorizer()\n",
    "    X_train_count = count_vect.fit_transform(X_train)\n",
    "    X_test_count = count_vect.transform(X_dev)\n",
    "\n",
    "    param_grid = [{'alpha':[0.1, 0.2, 0.3, 0.4, 0.5, 0.6,\n",
    "                 0.7, 0.8, 0.9, 1]}]\n",
    "\n",
    "    mln = MultinomialNB()\n",
    "    clf = GridSearchCV(mln, param_grid,cv=4)\n",
    "    clf.fit(X_train_count, y_train)\n",
    "\n",
    "    print(\"optimun alpha:{}\".format(\n",
    "          clf.best_params_['alpha']))\n",
    "\n",
    "    y_dev_pred = clf.predict(X_test_count)\n",
    "    conf_matrix = ConfusionMatrixDisplay.from_estimator(\n",
    "                  clf,X_test_count, y_dev,\n",
    "                  cmap=plt.cm.summer, normalize='true')\n",
    "    plt.show()\n",
    "    \n",
    "    target_names = ['1', '2', '3']\n",
    "    print(classification_report(y_dev, y_dev_pred, target_names=target_names))\n",
    "    print(\"f1 score macro:\", f1_score(y_dev, y_dev_pred, average='macro'))\n",
    "    print(\"accuracy score:\", accuracy_score(y_dev, y_dev_pred))\n",
    "    print(\"precision score macro:\", precision_score(y_dev, y_dev_pred, average='macro'))\n",
    "    print(\"recall score macro:\", recall_score(y_dev, y_dev_pred, average='macro'))"
   ]
  },
  {
   "cell_type": "code",
   "execution_count": 42,
   "metadata": {},
   "outputs": [
    {
     "name": "stdout",
     "output_type": "stream",
     "text": [
      "optimun alpha:0.9\n"
     ]
    },
    {
     "data": {
      "image/png": "[encoded data removed]",
      "text/plain": [
       "<Figure size 640x480 with 2 Axes>"
      ]
     },
     "metadata": {},
     "output_type": "display_data"
    },
    {
     "name": "stdout",
     "output_type": "stream",
     "text": [
      "              precision    recall  f1-score   support\n",
      "\n",
      "           1       0.58      0.75      0.65       599\n",
      "           2       0.43      0.34      0.38       440\n",
      "           3       0.61      0.49      0.54       408\n",
      "\n",
      "    accuracy                           0.55      1447\n",
      "   macro avg       0.54      0.53      0.53      1447\n",
      "weighted avg       0.54      0.55      0.54      1447\n",
      "\n",
      "f1 score macro: 0.5255152865052027\n",
      "accuracy score: 0.5514858327574291\n",
      "precision score macro: 0.5402077297682015\n",
      "recall score macro: 0.526197777638905\n"
     ]
    }
   ],
   "source": [
    "naive_bayes()"
   ]
  },
  {
   "cell_type": "code",
   "execution_count": 43,
   "metadata": {},
   "outputs": [
    {
     "name": "stdout",
     "output_type": "stream",
     "text": [
      "(4340, 2)\n",
      "(1447, 2)\n"
     ]
    }
   ],
   "source": [
    "#Naive Bayes with cleaning all with not link and mentions\n",
    "import numpy as np\n",
    "import pandas as pd\n",
    "from textwrap import wrap\n",
    "import matplotlib.pyplot as plt\n",
    "\n",
    "from sklearn.feature_extraction.text import CountVectorizer\n",
    "from nltk.corpus import stopwords\n",
    "\n",
    "import re,string,unicodedata\n",
    "from sklearn.metrics import classification_report,f1_score, accuracy_score, precision_score, recall_score, ConfusionMatrixDisplay\n",
    "from sklearn.naive_bayes import MultinomialNB\n",
    "from sklearn.model_selection import GridSearchCV\n",
    "\n",
    "from string import punctuation\n",
    "from nltk import pos_tag\n",
    "from nltk.corpus import wordnet\n",
    "from collections import Counter\n",
    "\n",
    "\n",
    "df_train = pd.read_csv('/Users/nfanlo/dev/spanish-classifier-tfg/dataset/60-20-20/train.csv')\n",
    "print(df_train.shape)\n",
    "df_train.isnull().sum()\n",
    "df_train.sentiment.replace(\"P\" , 2 , inplace = True)\n",
    "df_train.sentiment.replace(\"N\" , 0 , inplace = True)\n",
    "df_train.sentiment.replace(\"NEU\" , 1, inplace = True)\n",
    "df_train.head()\n",
    "df_train['review'] = df_train['text']\n",
    "df_train.drop('text', axis=1, inplace=True)\n",
    "df_train['label'] = df_train['sentiment']\n",
    "df_train.drop('sentiment', axis=1, inplace=True)\n",
    "\n",
    "df_dev = pd.read_csv('/Users/nfanlo/dev/spanish-classifier-tfg/dataset/60-20-20/dev.csv')\n",
    "print(df_dev.shape)\n",
    "df_dev.isnull().sum()\n",
    "df_dev.sentiment.replace(\"P\" , 2 , inplace = True)\n",
    "df_dev.sentiment.replace(\"N\" , 0 , inplace = True)\n",
    "df_dev.sentiment.replace(\"NEU\" , 1, inplace = True)\n",
    "df_dev['review'] = df_dev['text']\n",
    "df_dev.drop('text', axis=1, inplace=True)\n",
    "df_dev['label'] = df_dev['sentiment']\n",
    "df_dev.drop('sentiment', axis=1, inplace=True)"
   ]
  },
  {
   "cell_type": "code",
   "execution_count": 44,
   "metadata": {},
   "outputs": [],
   "source": [
    "##CUSTOM DEFINED FUNCTIONS TO CLEAN THE TWEETS\n",
    "\n",
    "#Remove punctuations, links, mentions and \\r\\n new line characters\n",
    "def strip_all_entities(text): \n",
    "    text = text.replace('\\r', '').replace('\\n', ' ').replace('\\n', ' ').lower() #remove \\n and \\r and lowercase\n",
    "    #text = re.sub(r\"(?:\\@|https?\\://)\\S+\", \"\", text) #remove links and mentions\n",
    "    text = re.sub(r'[^\\x00-\\x7f]',r'', text) #remove non utf8/ascii characters such as '\\x9a\\x91\\x97\\x9a\\x97'\n",
    "    banned_list= string.punctuation + 'Ã'+'±'+'ã'+'¼'+'â'+'»'+'§'\n",
    "    table = str.maketrans('', '', banned_list)\n",
    "    text = text.translate(table)\n",
    "    return text\n",
    "\n",
    "#clean hashtags at the end of the sentence, and keep those in the middle of the sentence by removing just the # symbol\n",
    "def clean_hashtags(tweet):\n",
    "    new_tweet = \" \".join(word.strip() for word in re.split('#(?!(?:hashtag)\\b)[\\w-]+(?=(?:\\s+#[\\w-]+)*\\s*$)', tweet)) #remove last hashtags\n",
    "    new_tweet2 = \" \".join(word.strip() for word in re.split('#|_', new_tweet)) #remove hashtags symbol from words in the middle of the sentence\n",
    "    return new_tweet2\n",
    "\n",
    "#Filter special characters such as & and $ present in some words\n",
    "def filter_chars(a):\n",
    "    sent = []\n",
    "    for word in a.split(' '):\n",
    "        if ('$' in word) | ('&' in word):\n",
    "            sent.append('')\n",
    "        else:\n",
    "            sent.append(word)\n",
    "    return ' '.join(sent)\n",
    "\n",
    "def remove_mult_spaces(text): # remove multiple spaces\n",
    "    return re.sub(\"\\s\\s+\" , \" \", text)"
   ]
  },
  {
   "cell_type": "code",
   "execution_count": 45,
   "metadata": {},
   "outputs": [],
   "source": [
    "def clean_reviews(df):\n",
    "    cleaned_reviews = []\n",
    "    for t in df.review:\n",
    "        cleaned_reviews.append(remove_mult_spaces(filter_chars(clean_hashtags(t))))\n",
    "    return cleaned_reviews\n",
    "\n",
    "\n",
    "review_new_train = clean_reviews(df_train)\n",
    "review_new_dev = clean_reviews(df_dev)"
   ]
  },
  {
   "cell_type": "code",
   "execution_count": 46,
   "metadata": {},
   "outputs": [],
   "source": [
    "df_train['review'] = review_new_train\n",
    "df_dev['review'] = review_new_dev\n",
    "\n",
    "X_train = df_train.iloc[:, 0]\n",
    "y_train = df_train.iloc[:, 1]\n",
    "X_dev = df_dev.iloc[:, 0]\n",
    "y_dev = df_dev.iloc[:, 1]"
   ]
  },
  {
   "cell_type": "code",
   "execution_count": 47,
   "metadata": {},
   "outputs": [],
   "source": [
    "#function that create and fit the naive bayes model\n",
    "def naive_bayes():\n",
    "    count_vect = CountVectorizer()\n",
    "    X_train_count = count_vect.fit_transform(X_train)\n",
    "    X_test_count = count_vect.transform(X_dev)\n",
    "\n",
    "    param_grid = [{'alpha':[0.1, 0.2, 0.3, 0.4, 0.5, 0.6,\n",
    "                 0.7, 0.8, 0.9, 1]}]\n",
    "\n",
    "    mln = MultinomialNB()\n",
    "    clf = GridSearchCV(mln, param_grid,cv=4)\n",
    "    clf.fit(X_train_count, y_train)\n",
    "\n",
    "    print(\"optimun alpha:{}\".format(\n",
    "          clf.best_params_['alpha']))\n",
    "\n",
    "    y_dev_pred = clf.predict(X_test_count)\n",
    "    conf_matrix = ConfusionMatrixDisplay.from_estimator(\n",
    "                  clf,X_test_count, y_dev,\n",
    "                  cmap=plt.cm.summer, normalize='true')\n",
    "    plt.show()\n",
    "    \n",
    "    target_names = ['1', '2', '3']\n",
    "    print(classification_report(y_dev, y_dev_pred, target_names=target_names))\n",
    "    print(\"f1 score macro:\", f1_score(y_dev, y_dev_pred, average='macro'))\n",
    "    print(\"accuracy score:\", accuracy_score(y_dev, y_dev_pred))\n",
    "    print(\"precision score macro:\", precision_score(y_dev, y_dev_pred, average='macro'))\n",
    "    print(\"recall score macro:\", recall_score(y_dev, y_dev_pred, average='macro'))"
   ]
  },
  {
   "cell_type": "code",
   "execution_count": 48,
   "metadata": {},
   "outputs": [
    {
     "name": "stdout",
     "output_type": "stream",
     "text": [
      "optimun alpha:0.9\n"
     ]
    },
    {
     "data": {
      "image/png": "[encoded data removed]",
      "text/plain": [
       "<Figure size 640x480 with 2 Axes>"
      ]
     },
     "metadata": {},
     "output_type": "display_data"
    },
    {
     "name": "stdout",
     "output_type": "stream",
     "text": [
      "              precision    recall  f1-score   support\n",
      "\n",
      "           1       0.56      0.77      0.65       599\n",
      "           2       0.43      0.31      0.36       440\n",
      "           3       0.61      0.45      0.52       408\n",
      "\n",
      "    accuracy                           0.54      1447\n",
      "   macro avg       0.53      0.51      0.51      1447\n",
      "weighted avg       0.53      0.54      0.52      1447\n",
      "\n",
      "f1 score macro: 0.5078214356094292\n",
      "accuracy score: 0.5404284727021423\n",
      "precision score macro: 0.5331826322987762\n",
      "recall score macro: 0.5099312381400175\n"
     ]
    }
   ],
   "source": [
    "naive_bayes()"
   ]
  },
  {
   "cell_type": "code",
   "execution_count": 50,
   "metadata": {},
   "outputs": [
    {
     "name": "stdout",
     "output_type": "stream",
     "text": [
      "(4340, 2)\n",
      "(1447, 2)\n"
     ]
    }
   ],
   "source": [
    "#Naive Bayes with cleaning stopwords and without GridsearchCV\n",
    "import numpy as np\n",
    "import pandas as pd\n",
    "from textwrap import wrap\n",
    "import matplotlib.pyplot as plt\n",
    "\n",
    "from sklearn.feature_extraction.text import CountVectorizer\n",
    "from nltk.corpus import stopwords\n",
    "\n",
    "import re,string,unicodedata\n",
    "from sklearn.metrics import classification_report,f1_score, accuracy_score, precision_score, recall_score, ConfusionMatrixDisplay\n",
    "from sklearn.naive_bayes import MultinomialNB\n",
    "from sklearn.model_selection import GridSearchCV\n",
    "\n",
    "from string import punctuation\n",
    "from nltk import pos_tag\n",
    "from nltk.corpus import wordnet\n",
    "from collections import Counter\n",
    "\n",
    "\n",
    "df_train = pd.read_csv('/Users/nfanlo/dev/spanish-classifier-tfg/dataset/60-20-20/train.csv')\n",
    "print(df_train.shape)\n",
    "df_train.isnull().sum()\n",
    "df_train.sentiment.replace(\"P\" , 2 , inplace = True)\n",
    "df_train.sentiment.replace(\"N\" , 0 , inplace = True)\n",
    "df_train.sentiment.replace(\"NEU\" , 1, inplace = True)\n",
    "df_train.head()\n",
    "df_train['review'] = df_train['text']\n",
    "df_train.drop('text', axis=1, inplace=True)\n",
    "df_train['label'] = df_train['sentiment']\n",
    "df_train.drop('sentiment', axis=1, inplace=True)\n",
    "\n",
    "df_dev = pd.read_csv('/Users/nfanlo/dev/spanish-classifier-tfg/dataset/60-20-20/dev.csv')\n",
    "print(df_dev.shape)\n",
    "df_dev.isnull().sum()\n",
    "df_dev.sentiment.replace(\"P\" , 2 , inplace = True)\n",
    "df_dev.sentiment.replace(\"N\" , 0 , inplace = True)\n",
    "df_dev.sentiment.replace(\"NEU\" , 1, inplace = True)\n",
    "df_dev['review'] = df_dev['text']\n",
    "df_dev.drop('text', axis=1, inplace=True)\n",
    "df_dev['label'] = df_dev['sentiment']\n",
    "df_dev.drop('sentiment', axis=1, inplace=True)"
   ]
  },
  {
   "cell_type": "code",
   "execution_count": 51,
   "metadata": {},
   "outputs": [],
   "source": [
    "##CUSTOM DEFINED FUNCTIONS TO CLEAN THE TWEETS\n",
    "\n",
    "#Remove punctuations, links, mentions and \\r\\n new line characters\n",
    "def strip_all_entities(text): \n",
    "    text = text.replace('\\r', '').replace('\\n', ' ').replace('\\n', ' ').lower() #remove \\n and \\r and lowercase\n",
    "    text = re.sub(r\"(?:\\@|https?\\://)\\S+\", \"\", text) #remove links and mentions\n",
    "    text = re.sub(r'[^\\x00-\\x7f]',r'', text) #remove non utf8/ascii characters such as '\\x9a\\x91\\x97\\x9a\\x97'\n",
    "    banned_list= string.punctuation + 'Ã'+'±'+'ã'+'¼'+'â'+'»'+'§'\n",
    "    table = str.maketrans('', '', banned_list)\n",
    "    text = text.translate(table)\n",
    "    return text\n",
    "\n",
    "#clean hashtags at the end of the sentence, and keep those in the middle of the sentence by removing just the # symbol\n",
    "def clean_hashtags(tweet):\n",
    "    new_tweet = \" \".join(word.strip() for word in re.split('#(?!(?:hashtag)\\b)[\\w-]+(?=(?:\\s+#[\\w-]+)*\\s*$)', tweet)) #remove last hashtags\n",
    "    new_tweet2 = \" \".join(word.strip() for word in re.split('#|_', new_tweet)) #remove hashtags symbol from words in the middle of the sentence\n",
    "    return new_tweet2\n",
    "\n",
    "#Filter special characters such as & and $ present in some words\n",
    "def filter_chars(a):\n",
    "    sent = []\n",
    "    for word in a.split(' '):\n",
    "        if ('$' in word) | ('&' in word):\n",
    "            sent.append('')\n",
    "        else:\n",
    "            sent.append(word)\n",
    "    return ' '.join(sent)\n",
    "\n",
    "def remove_mult_spaces(text): # remove multiple spaces\n",
    "    return re.sub(\"\\s\\s+\" , \" \", text)"
   ]
  },
  {
   "cell_type": "code",
   "execution_count": 52,
   "metadata": {},
   "outputs": [],
   "source": [
    "def clean_reviews(df):\n",
    "    cleaned_reviews = []\n",
    "    for t in df.review:\n",
    "        cleaned_reviews.append(remove_mult_spaces(filter_chars(clean_hashtags(strip_all_entities(t)))))\n",
    "    return cleaned_reviews\n",
    "\n",
    "\n",
    "review_new_train = clean_reviews(df_train)\n",
    "review_new_dev = clean_reviews(df_dev)"
   ]
  },
  {
   "cell_type": "code",
   "execution_count": 53,
   "metadata": {},
   "outputs": [],
   "source": [
    "df_train['review'] = review_new_train\n",
    "df_dev['review'] = review_new_dev\n",
    "\n",
    "X_train = df_train.iloc[:, 0]\n",
    "y_train = df_train.iloc[:, 1]\n",
    "X_dev = df_dev.iloc[:, 0]\n",
    "y_dev = df_dev.iloc[:, 1]"
   ]
  },
  {
   "cell_type": "code",
   "execution_count": 54,
   "metadata": {},
   "outputs": [],
   "source": [
    "#function that create and fit the naive bayes model\n",
    "def naive_bayes():\n",
    "    count_vect = CountVectorizer()\n",
    "    X_train_count = count_vect.fit_transform(X_train)\n",
    "    X_test_count = count_vect.transform(X_dev)\n",
    "\n",
    "    param_grid = [{'alpha':[0.1, 0.2, 0.3, 0.4, 0.5, 0.6,\n",
    "                 0.7, 0.8, 0.9, 1]}]\n",
    "\n",
    "    mln = MultinomialNB()\n",
    "    clf = GridSearchCV(mln, param_grid,cv=4)\n",
    "    clf.fit(X_train_count, y_train)\n",
    "\n",
    "    print(\"optimun alpha:{}\".format(\n",
    "          clf.best_params_['alpha']))\n",
    "\n",
    "    y_dev_pred = clf.predict(X_test_count)\n",
    "    conf_matrix = ConfusionMatrixDisplay.from_estimator(\n",
    "                  clf,X_test_count, y_dev,\n",
    "                  cmap=plt.cm.summer, normalize='true')\n",
    "    plt.show()\n",
    "    \n",
    "    target_names = ['1', '2', '3']\n",
    "    print(classification_report(y_dev, y_dev_pred, target_names=target_names))\n",
    "    print(\"f1 score macro:\", f1_score(y_dev, y_dev_pred, average='macro'))\n",
    "    print(\"accuracy score:\", accuracy_score(y_dev, y_dev_pred))\n",
    "    print(\"precision score macro:\", precision_score(y_dev, y_dev_pred, average='macro'))\n",
    "    print(\"recall score macro:\", recall_score(y_dev, y_dev_pred, average='macro'))"
   ]
  },
  {
   "cell_type": "code",
   "execution_count": 55,
   "metadata": {},
   "outputs": [
    {
     "name": "stdout",
     "output_type": "stream",
     "text": [
      "optimun alpha:0.9\n"
     ]
    },
    {
     "data": {
      "image/png": "[encoded data removed]",
      "text/plain": [
       "<Figure size 640x480 with 2 Axes>"
      ]
     },
     "metadata": {},
     "output_type": "display_data"
    },
    {
     "name": "stdout",
     "output_type": "stream",
     "text": [
      "              precision    recall  f1-score   support\n",
      "\n",
      "           1       0.58      0.75      0.65       599\n",
      "           2       0.43      0.34      0.38       440\n",
      "           3       0.61      0.49      0.54       408\n",
      "\n",
      "    accuracy                           0.55      1447\n",
      "   macro avg       0.54      0.53      0.53      1447\n",
      "weighted avg       0.54      0.55      0.54      1447\n",
      "\n",
      "f1 score macro: 0.5255152865052027\n",
      "accuracy score: 0.5514858327574291\n",
      "precision score macro: 0.5402077297682015\n",
      "recall score macro: 0.526197777638905\n"
     ]
    }
   ],
   "source": [
    "naive_bayes()"
   ]
  },
  {
   "cell_type": "code",
   "execution_count": null,
   "metadata": {},
   "outputs": [],
   "source": []
  }
 ],
 "metadata": {
  "kernelspec": {
   "display_name": "Python 3.9.6 64-bit",
   "language": "python",
   "name": "python3"
  },
  "language_info": {
   "codemirror_mode": {
    "name": "ipython",
    "version": 3
   },
   "file_extension": ".py",
   "mimetype": "text/x-python",
   "name": "python",
   "nbconvert_exporter": "python",
   "pygments_lexer": "ipython3",
   "version": "3.9.6"
  },
  "orig_nbformat": 4,
  "vscode": {
   "interpreter": {
    "hash": "31f2aee4e71d21fbe5cf8b01ff0e069b9275f58929596ceb00d14d90e3e16cd6"
   }
  }
 },
 "nbformat": 4,
 "nbformat_minor": 2
}
