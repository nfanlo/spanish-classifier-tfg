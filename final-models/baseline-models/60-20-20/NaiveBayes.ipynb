{
 "cells": [
  {
   "cell_type": "code",
   "execution_count": 1,
   "metadata": {},
   "outputs": [
    {
     "name": "stdout",
     "output_type": "stream",
     "text": [
      "(4340, 2)\n",
      "(1447, 2)\n",
      "(1447, 2)\n"
     ]
    }
   ],
   "source": [
    "#Naive Bayes without cleaning stopwords\n",
    "import numpy as np\n",
    "import pandas as pd\n",
    "from textwrap import wrap\n",
    "import matplotlib.pyplot as plt\n",
    "\n",
    "from sklearn.feature_extraction.text import CountVectorizer\n",
    "from nltk.corpus import stopwords\n",
    "from sklearn.metrics import classification_report,f1_score,precision_score,recall_score, plot_confusion_matrix, accuracy_score\n",
    "from sklearn.naive_bayes import MultinomialNB\n",
    "from sklearn.model_selection import GridSearchCV\n",
    "\n",
    "from string import punctuation\n",
    "from nltk import pos_tag\n",
    "from nltk.corpus import wordnet\n",
    "\n",
    "\n",
    "df_train = pd.read_csv('/Users/nfanlo/dev/spanish-classifier-tfg/dataset/60-20-20/train.csv')\n",
    "print(df_train.shape)\n",
    "df_train.isnull().sum()\n",
    "df_train.sentiment.replace(\"P\" , 2 , inplace = True)\n",
    "df_train.sentiment.replace(\"N\" , 0 , inplace = True)\n",
    "df_train.sentiment.replace(\"NEU\" , 1, inplace = True)\n",
    "df_train.head()\n",
    "df_train['review'] = df_train['text']\n",
    "df_train.drop('text', axis=1, inplace=True)\n",
    "df_train['label'] = df_train['sentiment']\n",
    "df_train.drop('sentiment', axis=1, inplace=True)\n",
    "\n",
    "df_dev = pd.read_csv('/Users/nfanlo/dev/spanish-classifier-tfg/dataset/60-20-20/dev.csv')\n",
    "print(df_dev.shape)\n",
    "df_dev.isnull().sum()\n",
    "df_dev.sentiment.replace(\"P\" , 2 , inplace = True)\n",
    "df_dev.sentiment.replace(\"N\" , 0 , inplace = True)\n",
    "df_dev.sentiment.replace(\"NEU\" , 1, inplace = True)\n",
    "df_dev['review'] = df_dev['text']\n",
    "df_dev.drop('text', axis=1, inplace=True)\n",
    "df_dev['label'] = df_dev['sentiment']\n",
    "df_dev.drop('sentiment', axis=1, inplace=True)\n",
    "\n",
    "df_test = pd.read_csv('/Users/nfanlo/dev/spanish-classifier-tfg/dataset/60-20-20/test.csv')\n",
    "print(df_dev.shape)\n",
    "df_test.isnull().sum()\n",
    "df_test.sentiment.replace(\"P\" , 2 , inplace = True)\n",
    "df_test.sentiment.replace(\"N\" , 0 , inplace = True)\n",
    "df_test.sentiment.replace(\"NEU\" , 1, inplace = True)\n",
    "df_test['review'] = df_test['text']\n",
    "df_test.drop('text', axis=1, inplace=True)\n",
    "df_test['label'] = df_test['sentiment']\n",
    "df_test.drop('sentiment', axis=1, inplace=True)"
   ]
  },
  {
   "cell_type": "code",
   "execution_count": 2,
   "metadata": {},
   "outputs": [],
   "source": [
    "X_train = df_train.iloc[:, 0]\n",
    "y_train = df_train.iloc[:, 1]\n",
    "X_dev = df_dev.iloc[:, 0]\n",
    "y_dev = df_dev.iloc[:, 1]\n",
    "X_test = df_test.iloc[:, 0]\n",
    "y_test = df_test.iloc[:, 1]"
   ]
  },
  {
   "cell_type": "code",
   "execution_count": 3,
   "metadata": {},
   "outputs": [
    {
     "data": {
      "text/plain": [
       "0       ola wapa k tal stas?? spero k no seas una sorr...\n",
       "1                  @sigridbazan Tu optimismo es admirable\n",
       "2                      Que coraje me dan lxs prepotentxs \n",
       "3           Limo sadboy de mierda la vida es maravillosa \n",
       "4       Al discurso de Obama le faltó el \"¿Qué hubiera...\n",
       "                              ...                        \n",
       "1442                 Nadie quiere ir a tomar café conmigo\n",
       "1443    @JuapochoHH sorry not sorry  pd quedamos en me...\n",
       "1444    @sandyxyxx es lo que tiene Amazon  a uno que c...\n",
       "1445    Que bueno que no soy mamá, sería la peor de to...\n",
       "1446       Tener grandes eectativas a futuro, eso es vida\n",
       "Name: review, Length: 1447, dtype: object"
      ]
     },
     "execution_count": 3,
     "metadata": {},
     "output_type": "execute_result"
    }
   ],
   "source": [
    "X_train\n",
    "X_dev"
   ]
  },
  {
   "cell_type": "code",
   "execution_count": 4,
   "metadata": {},
   "outputs": [],
   "source": [
    "#function that create and fit the naive bayes model\n",
    "def naive_bayes():\n",
    "    count_vect = CountVectorizer()\n",
    "    X_train_count = count_vect.fit_transform(X_train)\n",
    "    X_dev_count = count_vect.transform(X_dev)\n",
    "\n",
    "    param_grid = [{'alpha':[0.1, 0.2, 0.3, 0.4, 0.5, 0.6,\n",
    "                 0.7, 0.8, 0.9, 1]}]\n",
    "\n",
    "    mln = MultinomialNB()\n",
    "    clf = GridSearchCV(mln, param_grid)\n",
    "    clf.fit(X_train_count, y_train)\n",
    "\n",
    "    print(\"optimun alpha:{}\".format(\n",
    "          clf.best_params_['alpha']))\n",
    "\n",
    "    y_dev_pred = clf.predict(X_dev_count)\n",
    "    conf_matrix = plot_confusion_matrix(\n",
    "                  clf,X_dev_count, y_dev,\n",
    "                  cmap=plt.cm.summer, normalize='true')\n",
    "    plt.show()\n",
    "    \n",
    "    target_names = ['1', '2', '3']\n",
    "    print(classification_report(y_dev, y_dev_pred, target_names=target_names))\n",
    "    print(\"f1 score macro:\", f1_score(y_dev, y_dev_pred, average='macro'))\n",
    "    print(\"accuracy score:\", accuracy_score(y_dev, y_dev_pred))\n",
    "    print(\"precision score macro:\", precision_score(y_dev, y_dev_pred, average='macro'))\n",
    "    print(\"recall score macro:\", recall_score(y_dev, y_dev_pred, average='macro'))"
   ]
  },
  {
   "cell_type": "code",
   "execution_count": 5,
   "metadata": {},
   "outputs": [
    {
     "name": "stdout",
     "output_type": "stream",
     "text": [
      "optimun alpha:0.9\n"
     ]
    },
    {
     "name": "stderr",
     "output_type": "stream",
     "text": [
      "/Users/nfanlo/Library/Python/3.8/lib/python/site-packages/sklearn/utils/deprecation.py:87: FutureWarning: Function plot_confusion_matrix is deprecated; Function `plot_confusion_matrix` is deprecated in 1.0 and will be removed in 1.2. Use one of the class methods: ConfusionMatrixDisplay.from_predictions or ConfusionMatrixDisplay.from_estimator.\n",
      "  warnings.warn(msg, category=FutureWarning)\n"
     ]
    },
    {
     "data": {
      "image/png": "[encoded data removed]",
      "text/plain": [
       "<Figure size 640x480 with 2 Axes>"
      ]
     },
     "metadata": {},
     "output_type": "display_data"
    },
    {
     "name": "stdout",
     "output_type": "stream",
     "text": [
      "              precision    recall  f1-score   support\n",
      "\n",
      "           1       0.56      0.78      0.65       599\n",
      "           2       0.44      0.32      0.37       440\n",
      "           3       0.63      0.45      0.52       408\n",
      "\n",
      "    accuracy                           0.55      1447\n",
      "   macro avg       0.54      0.52      0.52      1447\n",
      "weighted avg       0.54      0.55      0.53      1447\n",
      "\n",
      "f1 score macro: 0.515359322379827\n",
      "accuracy score: 0.5473393227366966\n",
      "precision score macro: 0.5436693982136166\n",
      "recall score macro: 0.5165609497707111\n"
     ]
    }
   ],
   "source": [
    "naive_bayes()"
   ]
  },
  {
   "cell_type": "code",
   "execution_count": 6,
   "metadata": {},
   "outputs": [
    {
     "data": {
      "text/plain": [
       "0.5297686134648318"
      ]
     },
     "execution_count": 6,
     "metadata": {},
     "output_type": "execute_result"
    }
   ],
   "source": [
    "0.5297686134648318"
   ]
  },
  {
   "cell_type": "code",
   "execution_count": 7,
   "metadata": {},
   "outputs": [
    {
     "name": "stdout",
     "output_type": "stream",
     "text": [
      "(4340, 2)\n",
      "(1447, 2)\n"
     ]
    }
   ],
   "source": [
    "#Naive Bayes with cleaning stopwords\n",
    "import numpy as np\n",
    "import pandas as pd\n",
    "from textwrap import wrap\n",
    "import matplotlib.pyplot as plt\n",
    "\n",
    "from sklearn.feature_extraction.text import CountVectorizer\n",
    "from nltk.corpus import stopwords\n",
    "\n",
    "import re,string,unicodedata\n",
    "from sklearn.metrics import classification_report,f1_score, accuracy_score, precision_score, recall_score, plot_confusion_matrix\n",
    "from sklearn.naive_bayes import MultinomialNB\n",
    "from sklearn.model_selection import GridSearchCV\n",
    "\n",
    "from string import punctuation\n",
    "from nltk import pos_tag\n",
    "from nltk.corpus import wordnet\n",
    "from collections import Counter\n",
    "\n",
    "\n",
    "df_train = pd.read_csv('/Users/nfanlo/dev/spanish-classifier-tfg/dataset/60-20-20/train.csv')\n",
    "print(df_train.shape)\n",
    "df_train.isnull().sum()\n",
    "df_train.sentiment.replace(\"P\" , 2 , inplace = True)\n",
    "df_train.sentiment.replace(\"N\" , 0 , inplace = True)\n",
    "df_train.sentiment.replace(\"NEU\" , 1, inplace = True)\n",
    "df_train.head()\n",
    "df_train['review'] = df_train['text']\n",
    "df_train.drop('text', axis=1, inplace=True)\n",
    "df_train['label'] = df_train['sentiment']\n",
    "df_train.drop('sentiment', axis=1, inplace=True)\n",
    "\n",
    "df_dev = pd.read_csv('/Users/nfanlo/dev/spanish-classifier-tfg/dataset/60-20-20/dev.csv')\n",
    "print(df_dev.shape)\n",
    "df_dev.isnull().sum()\n",
    "df_dev.sentiment.replace(\"P\" , 2 , inplace = True)\n",
    "df_dev.sentiment.replace(\"N\" , 0 , inplace = True)\n",
    "df_dev.sentiment.replace(\"NEU\" , 1, inplace = True)\n",
    "df_dev['review'] = df_dev['text']\n",
    "df_dev.drop('text', axis=1, inplace=True)\n",
    "df_dev['label'] = df_dev['sentiment']\n",
    "df_dev.drop('sentiment', axis=1, inplace=True)"
   ]
  },
  {
   "cell_type": "code",
   "execution_count": 8,
   "metadata": {},
   "outputs": [],
   "source": [
    "##CUSTOM DEFINED FUNCTIONS TO CLEAN THE TWEETS\n",
    "\n",
    "#Remove punctuations, links, mentions and \\r\\n new line characters\n",
    "def strip_all_entities(text): \n",
    "    text = text.replace('\\r', '').replace('\\n', ' ').replace('\\n', ' ').lower() #remove \\n and \\r and lowercase\n",
    "    text = re.sub(r\"(?:\\@|https?\\://)\\S+\", \"\", text) #remove links and mentions\n",
    "    text = re.sub(r'[^\\x00-\\x7f]',r'', text) #remove non utf8/ascii characters such as '\\x9a\\x91\\x97\\x9a\\x97'\n",
    "    banned_list= string.punctuation + 'Ã'+'±'+'ã'+'¼'+'â'+'»'+'§'\n",
    "    table = str.maketrans('', '', banned_list)\n",
    "    text = text.translate(table)\n",
    "    return text\n",
    "\n",
    "#clean hashtags at the end of the sentence, and keep those in the middle of the sentence by removing just the # symbol\n",
    "def clean_hashtags(tweet):\n",
    "    new_tweet = \" \".join(word.strip() for word in re.split('#(?!(?:hashtag)\\b)[\\w-]+(?=(?:\\s+#[\\w-]+)*\\s*$)', tweet)) #remove last hashtags\n",
    "    new_tweet2 = \" \".join(word.strip() for word in re.split('#|_', new_tweet)) #remove hashtags symbol from words in the middle of the sentence\n",
    "    return new_tweet2\n",
    "\n",
    "#Filter special characters such as & and $ present in some words\n",
    "def filter_chars(a):\n",
    "    sent = []\n",
    "    for word in a.split(' '):\n",
    "        if ('$' in word) | ('&' in word):\n",
    "            sent.append('')\n",
    "        else:\n",
    "            sent.append(word)\n",
    "    return ' '.join(sent)\n",
    "\n",
    "def remove_mult_spaces(text): # remove multiple spaces\n",
    "    return re.sub(\"\\s\\s+\" , \" \", text)"
   ]
  },
  {
   "cell_type": "code",
   "execution_count": 9,
   "metadata": {},
   "outputs": [],
   "source": [
    "def clean_reviews(df):\n",
    "    cleaned_reviews = []\n",
    "    for t in df.review:\n",
    "        cleaned_reviews.append(remove_mult_spaces(filter_chars(clean_hashtags(strip_all_entities(t)))))\n",
    "    return cleaned_reviews\n",
    "\n",
    "\n",
    "review_new_train = clean_reviews(df_train)\n",
    "review_new_dev = clean_reviews(df_dev)"
   ]
  },
  {
   "cell_type": "code",
   "execution_count": 10,
   "metadata": {},
   "outputs": [],
   "source": [
    "df_train['review'] = review_new_train\n",
    "df_dev['review'] = review_new_dev\n",
    "\n",
    "X_train = df_train.iloc[:, 0]\n",
    "y_train = df_train.iloc[:, 1]\n",
    "X_dev = df_dev.iloc[:, 0]\n",
    "y_dev = df_dev.iloc[:, 1]"
   ]
  },
  {
   "cell_type": "code",
   "execution_count": 11,
   "metadata": {},
   "outputs": [
    {
     "data": {
      "text/plain": [
       "0       ola wapa k tal stas spero k no seas una sorra ...\n",
       "1                               tu optimismo es admirable\n",
       "2                       que coraje me dan lxs prepotentxs\n",
       "3            limo sadboy de mierda la vida es maravillosa\n",
       "4       al discurso de obama le falt el qu hubieran he...\n",
       "                              ...                        \n",
       "1442                  nadie quiere ir a tomar caf conmigo\n",
       "1443            sorry not sorry pd quedamos en medievales\n",
       "1444    es lo que tiene amazon a uno que conozco le ll...\n",
       "1445    que bueno que no soy mam sera la peor de todas...\n",
       "1446        tener grandes eectativas a futuro eso es vida\n",
       "Name: review, Length: 1447, dtype: object"
      ]
     },
     "execution_count": 11,
     "metadata": {},
     "output_type": "execute_result"
    }
   ],
   "source": [
    "X_train\n",
    "X_dev"
   ]
  },
  {
   "cell_type": "code",
   "execution_count": 12,
   "metadata": {},
   "outputs": [],
   "source": [
    "#function that create and fit the naive bayes model\n",
    "def naive_bayes():\n",
    "    count_vect = CountVectorizer()\n",
    "    X_train_count = count_vect.fit_transform(X_train)\n",
    "    X_test_count = count_vect.transform(X_dev)\n",
    "\n",
    "    param_grid = [{'alpha':[0.1, 0.2, 0.3, 0.4, 0.5, 0.6,\n",
    "                 0.7, 0.8, 0.9, 1]}]\n",
    "\n",
    "    mln = MultinomialNB()\n",
    "    clf = GridSearchCV(mln, param_grid)\n",
    "    clf.fit(X_train_count, y_train)\n",
    "\n",
    "    print(\"optimun alpha:{}\".format(\n",
    "          clf.best_params_['alpha']))\n",
    "\n",
    "    y_dev_pred = clf.predict(X_test_count)\n",
    "    conf_matrix = plot_confusion_matrix(\n",
    "                  clf,X_test_count, y_dev,\n",
    "                  cmap=plt.cm.summer, normalize='true')\n",
    "    plt.show()\n",
    "    \n",
    "    target_names = ['1', '2', '3']\n",
    "    print(classification_report(y_dev, y_dev_pred, target_names=target_names))\n",
    "    print(\"f1 score macro:\", f1_score(y_dev, y_dev_pred, average='macro'))\n",
    "    print(\"accuracy score:\", accuracy_score(y_dev, y_dev_pred))\n",
    "    print(\"precision score macro:\", precision_score(y_dev, y_dev_pred, average='macro'))\n",
    "    print(\"recall score macro:\", recall_score(y_dev, y_dev_pred, average='macro'))"
   ]
  },
  {
   "cell_type": "code",
   "execution_count": 13,
   "metadata": {},
   "outputs": [
    {
     "name": "stdout",
     "output_type": "stream",
     "text": [
      "optimun alpha:0.7\n"
     ]
    },
    {
     "name": "stderr",
     "output_type": "stream",
     "text": [
      "/Users/nfanlo/Library/Python/3.8/lib/python/site-packages/sklearn/utils/deprecation.py:87: FutureWarning: Function plot_confusion_matrix is deprecated; Function `plot_confusion_matrix` is deprecated in 1.0 and will be removed in 1.2. Use one of the class methods: ConfusionMatrixDisplay.from_predictions or ConfusionMatrixDisplay.from_estimator.\n",
      "  warnings.warn(msg, category=FutureWarning)\n"
     ]
    },
    {
     "data": {
      "image/png": "[encoded data removed]",
      "text/plain": [
       "<Figure size 640x480 with 2 Axes>"
      ]
     },
     "metadata": {},
     "output_type": "display_data"
    },
    {
     "name": "stdout",
     "output_type": "stream",
     "text": [
      "              precision    recall  f1-score   support\n",
      "\n",
      "           1       0.58      0.72      0.65       599\n",
      "           2       0.44      0.35      0.39       440\n",
      "           3       0.59      0.50      0.54       408\n",
      "\n",
      "    accuracy                           0.55      1447\n",
      "   macro avg       0.54      0.53      0.53      1447\n",
      "weighted avg       0.54      0.55      0.54      1447\n",
      "\n",
      "f1 score macro: 0.5267537600126614\n",
      "accuracy score: 0.5487214927436075\n",
      "precision score macro: 0.5364433340903929\n",
      "recall score macro: 0.5268831395562221\n"
     ]
    }
   ],
   "source": [
    "naive_bayes()"
   ]
  },
  {
   "cell_type": "code",
   "execution_count": 14,
   "metadata": {},
   "outputs": [
    {
     "name": "stdout",
     "output_type": "stream",
     "text": [
      "(4340, 2)\n",
      "(1447, 2)\n"
     ]
    }
   ],
   "source": [
    "#Naive Bayes with cleaning all with not link and mentions\n",
    "import numpy as np\n",
    "import pandas as pd\n",
    "from textwrap import wrap\n",
    "import matplotlib.pyplot as plt\n",
    "\n",
    "from sklearn.feature_extraction.text import CountVectorizer\n",
    "from nltk.corpus import stopwords\n",
    "\n",
    "import re,string,unicodedata\n",
    "from sklearn.metrics import classification_report,f1_score, accuracy_score, precision_score, recall_score, plot_confusion_matrix\n",
    "from sklearn.naive_bayes import MultinomialNB\n",
    "from sklearn.model_selection import GridSearchCV\n",
    "\n",
    "from string import punctuation\n",
    "from nltk import pos_tag\n",
    "from nltk.corpus import wordnet\n",
    "from collections import Counter\n",
    "\n",
    "\n",
    "df_train = pd.read_csv('/Users/nfanlo/dev/spanish-classifier-tfg/dataset/60-20-20/train.csv')\n",
    "print(df_train.shape)\n",
    "df_train.isnull().sum()\n",
    "df_train.sentiment.replace(\"P\" , 2 , inplace = True)\n",
    "df_train.sentiment.replace(\"N\" , 0 , inplace = True)\n",
    "df_train.sentiment.replace(\"NEU\" , 1, inplace = True)\n",
    "df_train.head()\n",
    "df_train['review'] = df_train['text']\n",
    "df_train.drop('text', axis=1, inplace=True)\n",
    "df_train['label'] = df_train['sentiment']\n",
    "df_train.drop('sentiment', axis=1, inplace=True)\n",
    "\n",
    "df_dev = pd.read_csv('/Users/nfanlo/dev/spanish-classifier-tfg/dataset/60-20-20/dev.csv')\n",
    "print(df_dev.shape)\n",
    "df_dev.isnull().sum()\n",
    "df_dev.sentiment.replace(\"P\" , 2 , inplace = True)\n",
    "df_dev.sentiment.replace(\"N\" , 0 , inplace = True)\n",
    "df_dev.sentiment.replace(\"NEU\" , 1, inplace = True)\n",
    "df_dev['review'] = df_dev['text']\n",
    "df_dev.drop('text', axis=1, inplace=True)\n",
    "df_dev['label'] = df_dev['sentiment']\n",
    "df_dev.drop('sentiment', axis=1, inplace=True)"
   ]
  },
  {
   "cell_type": "code",
   "execution_count": 15,
   "metadata": {},
   "outputs": [],
   "source": [
    "##CUSTOM DEFINED FUNCTIONS TO CLEAN THE TWEETS\n",
    "\n",
    "#Remove punctuations, links, mentions and \\r\\n new line characters\n",
    "def strip_all_entities(text): \n",
    "    text = text.replace('\\r', '').replace('\\n', ' ').replace('\\n', ' ').lower() #remove \\n and \\r and lowercase\n",
    "    #text = re.sub(r\"(?:\\@|https?\\://)\\S+\", \"\", text) #remove links and mentions\n",
    "    text = re.sub(r'[^\\x00-\\x7f]',r'', text) #remove non utf8/ascii characters such as '\\x9a\\x91\\x97\\x9a\\x97'\n",
    "    banned_list= string.punctuation + 'Ã'+'±'+'ã'+'¼'+'â'+'»'+'§'\n",
    "    table = str.maketrans('', '', banned_list)\n",
    "    text = text.translate(table)\n",
    "    return text\n",
    "\n",
    "#clean hashtags at the end of the sentence, and keep those in the middle of the sentence by removing just the # symbol\n",
    "def clean_hashtags(tweet):\n",
    "    new_tweet = \" \".join(word.strip() for word in re.split('#(?!(?:hashtag)\\b)[\\w-]+(?=(?:\\s+#[\\w-]+)*\\s*$)', tweet)) #remove last hashtags\n",
    "    new_tweet2 = \" \".join(word.strip() for word in re.split('#|_', new_tweet)) #remove hashtags symbol from words in the middle of the sentence\n",
    "    return new_tweet2\n",
    "\n",
    "#Filter special characters such as & and $ present in some words\n",
    "def filter_chars(a):\n",
    "    sent = []\n",
    "    for word in a.split(' '):\n",
    "        if ('$' in word) | ('&' in word):\n",
    "            sent.append('')\n",
    "        else:\n",
    "            sent.append(word)\n",
    "    return ' '.join(sent)\n",
    "\n",
    "def remove_mult_spaces(text): # remove multiple spaces\n",
    "    return re.sub(\"\\s\\s+\" , \" \", text)"
   ]
  },
  {
   "cell_type": "code",
   "execution_count": 16,
   "metadata": {},
   "outputs": [],
   "source": [
    "def clean_reviews(df):\n",
    "    cleaned_reviews = []\n",
    "    for t in df.review:\n",
    "        cleaned_reviews.append(remove_mult_spaces(filter_chars(clean_hashtags(t))))\n",
    "    return cleaned_reviews\n",
    "\n",
    "\n",
    "review_new_train = clean_reviews(df_train)\n",
    "review_new_dev = clean_reviews(df_dev)"
   ]
  },
  {
   "cell_type": "code",
   "execution_count": 17,
   "metadata": {},
   "outputs": [],
   "source": [
    "df_train['review'] = review_new_train\n",
    "df_dev['review'] = review_new_dev\n",
    "\n",
    "X_train = df_train.iloc[:, 0]\n",
    "y_train = df_train.iloc[:, 1]\n",
    "X_dev = df_dev.iloc[:, 0]\n",
    "y_dev = df_dev.iloc[:, 1]"
   ]
  },
  {
   "cell_type": "code",
   "execution_count": 18,
   "metadata": {},
   "outputs": [],
   "source": [
    "#function that create and fit the naive bayes model\n",
    "def naive_bayes():\n",
    "    count_vect = CountVectorizer()\n",
    "    X_train_count = count_vect.fit_transform(X_train)\n",
    "    X_test_count = count_vect.transform(X_dev)\n",
    "\n",
    "    param_grid = [{'alpha':[0.1, 0.2, 0.3, 0.4, 0.5, 0.6,\n",
    "                 0.7, 0.8, 0.9, 1]}]\n",
    "\n",
    "    mln = MultinomialNB()\n",
    "    clf = GridSearchCV(mln, param_grid,cv=4)\n",
    "    clf.fit(X_train_count, y_train)\n",
    "\n",
    "    print(\"optimun alpha:{}\".format(\n",
    "          clf.best_params_['alpha']))\n",
    "\n",
    "    y_dev_pred = clf.predict(X_test_count)\n",
    "    conf_matrix = plot_confusion_matrix(\n",
    "                  clf,X_test_count, y_dev,\n",
    "                  cmap=plt.cm.summer, normalize='true')\n",
    "    plt.show()\n",
    "    \n",
    "    target_names = ['1', '2', '3']\n",
    "    print(classification_report(y_dev, y_dev_pred, target_names=target_names))\n",
    "    print(\"f1 score macro:\", f1_score(y_dev, y_dev_pred, average='macro'))\n",
    "    print(\"accuracy score:\", accuracy_score(y_dev, y_dev_pred))\n",
    "    print(\"precision score macro:\", precision_score(y_dev, y_dev_pred, average='macro'))\n",
    "    print(\"recall score macro:\", recall_score(y_dev, y_dev_pred, average='macro'))"
   ]
  },
  {
   "cell_type": "code",
   "execution_count": 19,
   "metadata": {},
   "outputs": [
    {
     "name": "stdout",
     "output_type": "stream",
     "text": [
      "optimun alpha:0.9\n"
     ]
    },
    {
     "name": "stderr",
     "output_type": "stream",
     "text": [
      "/Users/nfanlo/Library/Python/3.8/lib/python/site-packages/sklearn/utils/deprecation.py:87: FutureWarning: Function plot_confusion_matrix is deprecated; Function `plot_confusion_matrix` is deprecated in 1.0 and will be removed in 1.2. Use one of the class methods: ConfusionMatrixDisplay.from_predictions or ConfusionMatrixDisplay.from_estimator.\n",
      "  warnings.warn(msg, category=FutureWarning)\n"
     ]
    },
    {
     "data": {
      "image/png": "[encoded data removed]",
      "text/plain": [
       "<Figure size 640x480 with 2 Axes>"
      ]
     },
     "metadata": {},
     "output_type": "display_data"
    },
    {
     "name": "stdout",
     "output_type": "stream",
     "text": [
      "              precision    recall  f1-score   support\n",
      "\n",
      "           1       0.56      0.77      0.65       599\n",
      "           2       0.43      0.31      0.36       440\n",
      "           3       0.61      0.45      0.52       408\n",
      "\n",
      "    accuracy                           0.54      1447\n",
      "   macro avg       0.53      0.51      0.51      1447\n",
      "weighted avg       0.53      0.54      0.52      1447\n",
      "\n",
      "f1 score macro: 0.5078214356094292\n",
      "accuracy score: 0.5404284727021423\n",
      "precision score macro: 0.5331826322987762\n",
      "recall score macro: 0.5099312381400175\n"
     ]
    }
   ],
   "source": [
    "naive_bayes()"
   ]
  },
  {
   "cell_type": "code",
   "execution_count": 20,
   "metadata": {},
   "outputs": [
    {
     "name": "stdout",
     "output_type": "stream",
     "text": [
      "(4340, 2)\n",
      "(1447, 2)\n"
     ]
    }
   ],
   "source": [
    "#Naive Bayes with cleaning stopwords and without GridsearchCV\n",
    "import numpy as np\n",
    "import pandas as pd\n",
    "from textwrap import wrap\n",
    "import matplotlib.pyplot as plt\n",
    "\n",
    "from sklearn.feature_extraction.text import CountVectorizer\n",
    "from nltk.corpus import stopwords\n",
    "\n",
    "import re,string,unicodedata\n",
    "from sklearn.metrics import classification_report,f1_score, accuracy_score, precision_score, recall_score, plot_confusion_matrix\n",
    "from sklearn.naive_bayes import MultinomialNB\n",
    "from sklearn.model_selection import GridSearchCV\n",
    "\n",
    "from string import punctuation\n",
    "from nltk import pos_tag\n",
    "from nltk.corpus import wordnet\n",
    "from collections import Counter\n",
    "\n",
    "\n",
    "df_train = pd.read_csv('/Users/nfanlo/dev/spanish-classifier-tfg/dataset/60-20-20/train.csv')\n",
    "print(df_train.shape)\n",
    "df_train.isnull().sum()\n",
    "df_train.sentiment.replace(\"P\" , 2 , inplace = True)\n",
    "df_train.sentiment.replace(\"N\" , 0 , inplace = True)\n",
    "df_train.sentiment.replace(\"NEU\" , 1, inplace = True)\n",
    "df_train.head()\n",
    "df_train['review'] = df_train['text']\n",
    "df_train.drop('text', axis=1, inplace=True)\n",
    "df_train['label'] = df_train['sentiment']\n",
    "df_train.drop('sentiment', axis=1, inplace=True)\n",
    "\n",
    "df_dev = pd.read_csv('/Users/nfanlo/dev/spanish-classifier-tfg/dataset/60-20-20/dev.csv')\n",
    "print(df_dev.shape)\n",
    "df_dev.isnull().sum()\n",
    "df_dev.sentiment.replace(\"P\" , 2 , inplace = True)\n",
    "df_dev.sentiment.replace(\"N\" , 0 , inplace = True)\n",
    "df_dev.sentiment.replace(\"NEU\" , 1, inplace = True)\n",
    "df_dev['review'] = df_dev['text']\n",
    "df_dev.drop('text', axis=1, inplace=True)\n",
    "df_dev['label'] = df_dev['sentiment']\n",
    "df_dev.drop('sentiment', axis=1, inplace=True)"
   ]
  },
  {
   "cell_type": "code",
   "execution_count": 21,
   "metadata": {},
   "outputs": [],
   "source": [
    "##CUSTOM DEFINED FUNCTIONS TO CLEAN THE TWEETS\n",
    "\n",
    "#Remove punctuations, links, mentions and \\r\\n new line characters\n",
    "def strip_all_entities(text): \n",
    "    text = text.replace('\\r', '').replace('\\n', ' ').replace('\\n', ' ').lower() #remove \\n and \\r and lowercase\n",
    "    text = re.sub(r\"(?:\\@|https?\\://)\\S+\", \"\", text) #remove links and mentions\n",
    "    text = re.sub(r'[^\\x00-\\x7f]',r'', text) #remove non utf8/ascii characters such as '\\x9a\\x91\\x97\\x9a\\x97'\n",
    "    banned_list= string.punctuation + 'Ã'+'±'+'ã'+'¼'+'â'+'»'+'§'\n",
    "    table = str.maketrans('', '', banned_list)\n",
    "    text = text.translate(table)\n",
    "    return text\n",
    "\n",
    "#clean hashtags at the end of the sentence, and keep those in the middle of the sentence by removing just the # symbol\n",
    "def clean_hashtags(tweet):\n",
    "    new_tweet = \" \".join(word.strip() for word in re.split('#(?!(?:hashtag)\\b)[\\w-]+(?=(?:\\s+#[\\w-]+)*\\s*$)', tweet)) #remove last hashtags\n",
    "    new_tweet2 = \" \".join(word.strip() for word in re.split('#|_', new_tweet)) #remove hashtags symbol from words in the middle of the sentence\n",
    "    return new_tweet2\n",
    "\n",
    "#Filter special characters such as & and $ present in some words\n",
    "def filter_chars(a):\n",
    "    sent = []\n",
    "    for word in a.split(' '):\n",
    "        if ('$' in word) | ('&' in word):\n",
    "            sent.append('')\n",
    "        else:\n",
    "            sent.append(word)\n",
    "    return ' '.join(sent)\n",
    "\n",
    "def remove_mult_spaces(text): # remove multiple spaces\n",
    "    return re.sub(\"\\s\\s+\" , \" \", text)"
   ]
  },
  {
   "cell_type": "code",
   "execution_count": 22,
   "metadata": {},
   "outputs": [],
   "source": [
    "def clean_reviews(df):\n",
    "    cleaned_reviews = []\n",
    "    for t in df.review:\n",
    "        cleaned_reviews.append(remove_mult_spaces(filter_chars(clean_hashtags(strip_all_entities(t)))))\n",
    "    return cleaned_reviews\n",
    "\n",
    "\n",
    "review_new_train = clean_reviews(df_train)\n",
    "review_new_dev = clean_reviews(df_dev)"
   ]
  },
  {
   "cell_type": "code",
   "execution_count": 23,
   "metadata": {},
   "outputs": [],
   "source": [
    "df_train['review'] = review_new_train\n",
    "df_dev['review'] = review_new_dev\n",
    "\n",
    "X_train = df_train.iloc[:, 0]\n",
    "y_train = df_train.iloc[:, 1]\n",
    "X_dev = df_dev.iloc[:, 0]\n",
    "y_dev = df_dev.iloc[:, 1]"
   ]
  },
  {
   "cell_type": "code",
   "execution_count": 24,
   "metadata": {},
   "outputs": [],
   "source": [
    "#function that create and fit the naive bayes model\n",
    "def naive_bayes():\n",
    "    count_vect = CountVectorizer()\n",
    "    X_train_count = count_vect.fit_transform(X_train)\n",
    "    X_test_count = count_vect.transform(X_dev)\n",
    "\n",
    "    param_grid = [{'alpha':[0.1, 0.2, 0.3, 0.4, 0.5, 0.6,\n",
    "                 0.7, 0.8, 0.9, 1]}]\n",
    "\n",
    "    mln = MultinomialNB()\n",
    "    #clf = GridSearchCV(mln, param_grid,cv=5)\n",
    "    mln.fit(X_train_count, y_train)\n",
    "\n",
    "    #print(\"optimun alpha:{}\".format(clf.best_params_['alpha']))\n",
    "\n",
    "    y_dev_pred = mln.predict(X_test_count)\n",
    "    conf_matrix = plot_confusion_matrix(\n",
    "                  mln,X_test_count, y_dev,\n",
    "                  cmap=plt.cm.summer, normalize='true')\n",
    "    plt.show()\n",
    "    \n",
    "    target_names = ['1', '2', '3']\n",
    "    print(classification_report(y_dev, y_dev_pred, target_names=target_names))\n",
    "    print(\"f1 score macro:\", f1_score(y_dev, y_dev_pred, average='macro'))\n",
    "    print(\"accuracy score:\", accuracy_score(y_dev, y_dev_pred))\n",
    "    print(\"precision score macro:\", precision_score(y_dev, y_dev_pred, average='macro'))\n",
    "    print(\"recall score macro:\", recall_score(y_dev, y_dev_pred, average='macro'))"
   ]
  },
  {
   "cell_type": "code",
   "execution_count": 25,
   "metadata": {},
   "outputs": [
    {
     "name": "stderr",
     "output_type": "stream",
     "text": [
      "/Users/nfanlo/Library/Python/3.8/lib/python/site-packages/sklearn/utils/deprecation.py:87: FutureWarning: Function plot_confusion_matrix is deprecated; Function `plot_confusion_matrix` is deprecated in 1.0 and will be removed in 1.2. Use one of the class methods: ConfusionMatrixDisplay.from_predictions or ConfusionMatrixDisplay.from_estimator.\n",
      "  warnings.warn(msg, category=FutureWarning)\n"
     ]
    },
    {
     "data": {
      "image/png": "[encoded data removed]",
      "text/plain": [
       "<Figure size 640x480 with 2 Axes>"
      ]
     },
     "metadata": {},
     "output_type": "display_data"
    },
    {
     "name": "stdout",
     "output_type": "stream",
     "text": [
      "              precision    recall  f1-score   support\n",
      "\n",
      "           1       0.57      0.76      0.65       599\n",
      "           2       0.44      0.33      0.38       440\n",
      "           3       0.62      0.49      0.55       408\n",
      "\n",
      "    accuracy                           0.55      1447\n",
      "   macro avg       0.55      0.53      0.53      1447\n",
      "weighted avg       0.55      0.55      0.54      1447\n",
      "\n",
      "f1 score macro: 0.5270672514052542\n",
      "accuracy score: 0.5535590877677954\n",
      "precision score macro: 0.5452981213850779\n",
      "recall score macro: 0.5274650412600919\n"
     ]
    }
   ],
   "source": [
    "naive_bayes()"
   ]
  },
  {
   "cell_type": "code",
   "execution_count": 138,
   "metadata": {},
   "outputs": [
    {
     "name": "stdout",
     "output_type": "stream",
     "text": [
      "0.5297686134648318\n"
     ]
    }
   ],
   "source": [
    "x= 0.5436693982136166\n",
    "y= 0.5165609497707111\n",
    "z=0.5473393227366966\n",
    "\n",
    "print(2*((x*y)/(x+y)))\n"
   ]
  },
  {
   "cell_type": "code",
   "execution_count": null,
   "metadata": {},
   "outputs": [],
   "source": []
  }
 ],
 "metadata": {
  "kernelspec": {
   "display_name": "Python 3.8.9 64-bit",
   "language": "python",
   "name": "python3"
  },
  "language_info": {
   "codemirror_mode": {
    "name": "ipython",
    "version": 3
   },
   "file_extension": ".py",
   "mimetype": "text/x-python",
   "name": "python",
   "nbconvert_exporter": "python",
   "pygments_lexer": "ipython3",
   "version": "3.9.6"
  },
  "orig_nbformat": 4,
  "vscode": {
   "interpreter": {
    "hash": "31f2aee4e71d21fbe5cf8b01ff0e069b9275f58929596ceb00d14d90e3e16cd6"
   }
  }
 },
 "nbformat": 4,
 "nbformat_minor": 2
}
