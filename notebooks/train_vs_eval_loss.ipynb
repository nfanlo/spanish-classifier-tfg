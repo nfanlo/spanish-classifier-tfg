{
 "cells": [
  {
   "cell_type": "code",
   "execution_count": 1,
   "metadata": {},
   "outputs": [],
   "source": [
    "import numpy as np\n",
    "import matplotlib.pyplot as plt\n",
    "import numpy as np\n",
    "from scipy.interpolate import make_interp_spline\n",
    "import json"
   ]
  },
  {
   "cell_type": "markdown",
   "metadata": {},
   "source": [
    "# Show Train vs Eval Loss"
   ]
  },
  {
   "cell_type": "code",
   "execution_count": null,
   "metadata": {},
   "outputs": [],
   "source": [
    "TRAINER_STATE=\"/home3/fperez/yk_test_kk/athlete_db_cw_5e6_256/checkpoint-17000/trainer_state.json\"\n",
    "data = {}\n",
    "with open(TRAINER_STATE, 'r') as file:\n",
    "    data = json.load(file)"
   ]
  },
  {
   "cell_type": "code",
   "execution_count": null,
   "metadata": {},
   "outputs": [],
   "source": [
    "# Extract epoch, loss, and eval_loss\n",
    "epochs = [entry[\"epoch\"] for entry in data[\"log_history\"] if \"loss\" in entry]\n",
    "loss = [entry[\"loss\"] for entry in data[\"log_history\"] if \"loss\" in entry]\n",
    "eval_loss = [entry[\"eval_loss\"] for entry in data[\"log_history\"] if \"eval_loss\" in entry]"
   ]
  },
  {
   "cell_type": "code",
   "execution_count": null,
   "metadata": {},
   "outputs": [],
   "source": [
    "# Smooth the curves\n",
    "epochs_smooth = np.linspace(min(epochs), max(epochs), 300)\n",
    "loss_smooth_spline = make_interp_spline(epochs[:len(loss)], loss, k=3)\n",
    "eval_loss_smooth_spline = make_interp_spline(epochs[:len(eval_loss)], eval_loss, k=3)\n",
    "loss_smooth = loss_smooth_spline(epochs_smooth)\n",
    "eval_loss_smooth = eval_loss_smooth_spline(epochs_smooth)\n",
    "# epochs_smooth = epochs\n",
    "# loss_smooth = loss\n",
    "# eval_loss_smooth = eval_loss\n",
    "\n",
    "# Add arrows pointing to the minimum of both loss and eval_loss\n",
    "min_loss_idx = np.argmin(loss_smooth)\n",
    "min_eval_loss_idx = np.argmin(eval_loss_smooth)\n",
    "\n",
    "plt.annotate('min loss', xy=(epochs_smooth[min_loss_idx], loss_smooth[min_loss_idx]), \n",
    "             xytext=(epochs_smooth[min_loss_idx], loss_smooth[min_loss_idx] + 0.1),\n",
    "             arrowprops=dict(facecolor='black', shrink=0.05))\n",
    "\n",
    "plt.annotate('min eval loss', xy=(epochs_smooth[min_eval_loss_idx], eval_loss_smooth[min_eval_loss_idx]), \n",
    "             xytext=(epochs_smooth[min_eval_loss_idx], eval_loss_smooth[min_eval_loss_idx] + 0.1),\n",
    "             arrowprops=dict(facecolor='black', shrink=0.05))\n",
    "\n",
    "# Plot the smoothed curves\n",
    "plt.plot(epochs_smooth, loss_smooth, label='loss', linewidth=2, color=\"yellow\")\n",
    "plt.plot(epochs_smooth, eval_loss_smooth, label='eval loss', linewidth=2, color=\"green\")\n",
    "\n",
    "plt.xlabel('epoch')\n",
    "plt.ylabel('loss')\n",
    "plt.title('Training Loss vs. Eval Loss')\n",
    "plt.grid(alpha=0.3)\n",
    "plt.legend()\n",
    "\n",
    "# Make the plot fancier\n",
    "plt.gca().spines['top'].set_visible(False)\n",
    "plt.gca().spines['right'].set_visible(False)\n",
    "plt.gca().spines['bottom'].set_position(('outward', 10))\n",
    "plt.gca().spines['left'].set_position(('outward', 10))\n",
    "\n",
    "plt.show()"
   ]
  }
 ],
 "metadata": {
  "kernelspec": {
   "display_name": ".venv",
   "language": "python",
   "name": "python3"
  },
  "language_info": {
   "codemirror_mode": {
    "name": "ipython",
    "version": 3
   },
   "file_extension": ".py",
   "mimetype": "text/x-python",
   "name": "python",
   "nbconvert_exporter": "python",
   "pygments_lexer": "ipython3",
   "version": "3.9.12"
  },
  "orig_nbformat": 4
 },
 "nbformat": 4,
 "nbformat_minor": 2
}
